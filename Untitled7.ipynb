{
  "nbformat": 4,
  "nbformat_minor": 0,
  "metadata": {
    "colab": {
      "provenance": [],
      "authorship_tag": "ABX9TyPiqagZ1s5Y+ivR0n1/+YW7",
      "include_colab_link": true
    },
    "kernelspec": {
      "name": "python3",
      "display_name": "Python 3"
    },
    "language_info": {
      "name": "python"
    }
  },
  "cells": [
    {
      "cell_type": "markdown",
      "metadata": {
        "id": "view-in-github",
        "colab_type": "text"
      },
      "source": [
        "<a href=\"https://colab.research.google.com/github/Susmithapi/data-cleaning/blob/main/Untitled7.ipynb\" target=\"_parent\"><img src=\"https://colab.research.google.com/assets/colab-badge.svg\" alt=\"Open In Colab\"/></a>"
      ]
    },
    {
      "cell_type": "code",
      "execution_count": 2,
      "metadata": {
        "id": "xZ3DKp0AGycP"
      },
      "outputs": [],
      "source": [
        "import pandas as pd\n",
        "import numpy as np\n"
      ]
    },
    {
      "cell_type": "code",
      "source": [
        "chipotle = pd.read_csv('/content/chipotle.tsv',sep = '/t')"
      ],
      "metadata": {
        "id": "sSCgpFDXIYIW",
        "colab": {
          "base_uri": "https://localhost:8080/"
        },
        "outputId": "a3fa505b-f234-4813-97d1-184a86d83398"
      },
      "execution_count": 5,
      "outputs": [
        {
          "output_type": "stream",
          "name": "stderr",
          "text": [
            "<ipython-input-5-2bb3ee26afdb>:1: ParserWarning: Falling back to the 'python' engine because the 'c' engine does not support regex separators (separators > 1 char and different from '\\s+' are interpreted as regex); you can avoid this warning by specifying engine='python'.\n",
            "  chipotle = pd.read_csv('/content/chipotle.tsv',sep = '/t')\n"
          ]
        }
      ]
    },
    {
      "cell_type": "code",
      "source": [
        "print(chipotle)"
      ],
      "metadata": {
        "colab": {
          "base_uri": "https://localhost:8080/"
        },
        "id": "LCMA-_rYJiKW",
        "outputId": "f674f326-f457-4535-ab85-3214e823d007"
      },
      "execution_count": 6,
      "outputs": [
        {
          "output_type": "stream",
          "name": "stdout",
          "text": [
            "     order_id\\tquantity\\titem_name\\tchoice_description\\titem_price\n",
            "0       1\\t1\\tChips and Fresh Tomato Salsa\\tNULL\\t$2.39           \n",
            "1                       1\\t1\\tIzze\\t[Clementine]\\t$3.39           \n",
            "2                1\\t1\\tNantucket Nectar\\t[Apple]\\t$3.39           \n",
            "3     1\\t1\\tChips and Tomatillo-Green Chili Salsa\\tN...           \n",
            "4     2\\t2\\tChicken Bowl\\t[Tomatillo-Red Chili Salsa...           \n",
            "...                                                 ...           \n",
            "4617  1833\\t1\\tSteak Burrito\\t[Fresh Tomato Salsa, [...           \n",
            "4618  1833\\t1\\tSteak Burrito\\t[Fresh Tomato Salsa, [...           \n",
            "4619  1834\\t1\\tChicken Salad Bowl\\t[Fresh Tomato Sal...           \n",
            "4620  1834\\t1\\tChicken Salad Bowl\\t[Fresh Tomato Sal...           \n",
            "4621  1834\\t1\\tChicken Salad Bowl\\t[Fresh Tomato Sal...           \n",
            "\n",
            "[4622 rows x 1 columns]\n"
          ]
        }
      ]
    },
    {
      "cell_type": "code",
      "source": [
        "chipotle = pd.read_csv('chipotle.tsv', delimiter='\\t')\n",
        "\n",
        "# Save the DataFrame as a CSV file\n",
        "chipotle.to_csv('chipotle.csv', index=False)"
      ],
      "metadata": {
        "id": "lnrmEb_CJ20Q"
      },
      "execution_count": 7,
      "outputs": []
    },
    {
      "cell_type": "code",
      "source": [
        "print(chipotle)"
      ],
      "metadata": {
        "colab": {
          "base_uri": "https://localhost:8080/"
        },
        "id": "2dydVjrMM-Fm",
        "outputId": "ebc18942-f1ac-474f-988e-3f3e4fc7da39"
      },
      "execution_count": 8,
      "outputs": [
        {
          "output_type": "stream",
          "name": "stdout",
          "text": [
            "      order_id  quantity                              item_name  \\\n",
            "0            1         1           Chips and Fresh Tomato Salsa   \n",
            "1            1         1                                   Izze   \n",
            "2            1         1                       Nantucket Nectar   \n",
            "3            1         1  Chips and Tomatillo-Green Chili Salsa   \n",
            "4            2         2                           Chicken Bowl   \n",
            "...        ...       ...                                    ...   \n",
            "4617      1833         1                          Steak Burrito   \n",
            "4618      1833         1                          Steak Burrito   \n",
            "4619      1834         1                     Chicken Salad Bowl   \n",
            "4620      1834         1                     Chicken Salad Bowl   \n",
            "4621      1834         1                     Chicken Salad Bowl   \n",
            "\n",
            "                                     choice_description item_price  \n",
            "0                                                   NaN     $2.39   \n",
            "1                                          [Clementine]     $3.39   \n",
            "2                                               [Apple]     $3.39   \n",
            "3                                                   NaN     $2.39   \n",
            "4     [Tomatillo-Red Chili Salsa (Hot), [Black Beans...    $16.98   \n",
            "...                                                 ...        ...  \n",
            "4617  [Fresh Tomato Salsa, [Rice, Black Beans, Sour ...    $11.75   \n",
            "4618  [Fresh Tomato Salsa, [Rice, Sour Cream, Cheese...    $11.75   \n",
            "4619  [Fresh Tomato Salsa, [Fajita Vegetables, Pinto...    $11.25   \n",
            "4620  [Fresh Tomato Salsa, [Fajita Vegetables, Lettu...     $8.75   \n",
            "4621  [Fresh Tomato Salsa, [Fajita Vegetables, Pinto...     $8.75   \n",
            "\n",
            "[4622 rows x 5 columns]\n"
          ]
        }
      ]
    },
    {
      "cell_type": "code",
      "source": [
        "chipotle.describe()"
      ],
      "metadata": {
        "colab": {
          "base_uri": "https://localhost:8080/",
          "height": 300
        },
        "id": "pkbcs9v7NJAH",
        "outputId": "d3198bac-9044-4ae3-90ef-11a04e1e4363"
      },
      "execution_count": 9,
      "outputs": [
        {
          "output_type": "execute_result",
          "data": {
            "text/plain": [
              "          order_id     quantity\n",
              "count  4622.000000  4622.000000\n",
              "mean    927.254868     1.075725\n",
              "std     528.890796     0.410186\n",
              "min       1.000000     1.000000\n",
              "25%     477.250000     1.000000\n",
              "50%     926.000000     1.000000\n",
              "75%    1393.000000     1.000000\n",
              "max    1834.000000    15.000000"
            ],
            "text/html": [
              "\n",
              "  <div id=\"df-7485d15c-a27a-4b93-912e-d49309fa4db0\" class=\"colab-df-container\">\n",
              "    <div>\n",
              "<style scoped>\n",
              "    .dataframe tbody tr th:only-of-type {\n",
              "        vertical-align: middle;\n",
              "    }\n",
              "\n",
              "    .dataframe tbody tr th {\n",
              "        vertical-align: top;\n",
              "    }\n",
              "\n",
              "    .dataframe thead th {\n",
              "        text-align: right;\n",
              "    }\n",
              "</style>\n",
              "<table border=\"1\" class=\"dataframe\">\n",
              "  <thead>\n",
              "    <tr style=\"text-align: right;\">\n",
              "      <th></th>\n",
              "      <th>order_id</th>\n",
              "      <th>quantity</th>\n",
              "    </tr>\n",
              "  </thead>\n",
              "  <tbody>\n",
              "    <tr>\n",
              "      <th>count</th>\n",
              "      <td>4622.000000</td>\n",
              "      <td>4622.000000</td>\n",
              "    </tr>\n",
              "    <tr>\n",
              "      <th>mean</th>\n",
              "      <td>927.254868</td>\n",
              "      <td>1.075725</td>\n",
              "    </tr>\n",
              "    <tr>\n",
              "      <th>std</th>\n",
              "      <td>528.890796</td>\n",
              "      <td>0.410186</td>\n",
              "    </tr>\n",
              "    <tr>\n",
              "      <th>min</th>\n",
              "      <td>1.000000</td>\n",
              "      <td>1.000000</td>\n",
              "    </tr>\n",
              "    <tr>\n",
              "      <th>25%</th>\n",
              "      <td>477.250000</td>\n",
              "      <td>1.000000</td>\n",
              "    </tr>\n",
              "    <tr>\n",
              "      <th>50%</th>\n",
              "      <td>926.000000</td>\n",
              "      <td>1.000000</td>\n",
              "    </tr>\n",
              "    <tr>\n",
              "      <th>75%</th>\n",
              "      <td>1393.000000</td>\n",
              "      <td>1.000000</td>\n",
              "    </tr>\n",
              "    <tr>\n",
              "      <th>max</th>\n",
              "      <td>1834.000000</td>\n",
              "      <td>15.000000</td>\n",
              "    </tr>\n",
              "  </tbody>\n",
              "</table>\n",
              "</div>\n",
              "    <div class=\"colab-df-buttons\">\n",
              "\n",
              "  <div class=\"colab-df-container\">\n",
              "    <button class=\"colab-df-convert\" onclick=\"convertToInteractive('df-7485d15c-a27a-4b93-912e-d49309fa4db0')\"\n",
              "            title=\"Convert this dataframe to an interactive table.\"\n",
              "            style=\"display:none;\">\n",
              "\n",
              "  <svg xmlns=\"http://www.w3.org/2000/svg\" height=\"24px\" viewBox=\"0 -960 960 960\">\n",
              "    <path d=\"M120-120v-720h720v720H120Zm60-500h600v-160H180v160Zm220 220h160v-160H400v160Zm0 220h160v-160H400v160ZM180-400h160v-160H180v160Zm440 0h160v-160H620v160ZM180-180h160v-160H180v160Zm440 0h160v-160H620v160Z\"/>\n",
              "  </svg>\n",
              "    </button>\n",
              "\n",
              "  <style>\n",
              "    .colab-df-container {\n",
              "      display:flex;\n",
              "      gap: 12px;\n",
              "    }\n",
              "\n",
              "    .colab-df-convert {\n",
              "      background-color: #E8F0FE;\n",
              "      border: none;\n",
              "      border-radius: 50%;\n",
              "      cursor: pointer;\n",
              "      display: none;\n",
              "      fill: #1967D2;\n",
              "      height: 32px;\n",
              "      padding: 0 0 0 0;\n",
              "      width: 32px;\n",
              "    }\n",
              "\n",
              "    .colab-df-convert:hover {\n",
              "      background-color: #E2EBFA;\n",
              "      box-shadow: 0px 1px 2px rgba(60, 64, 67, 0.3), 0px 1px 3px 1px rgba(60, 64, 67, 0.15);\n",
              "      fill: #174EA6;\n",
              "    }\n",
              "\n",
              "    .colab-df-buttons div {\n",
              "      margin-bottom: 4px;\n",
              "    }\n",
              "\n",
              "    [theme=dark] .colab-df-convert {\n",
              "      background-color: #3B4455;\n",
              "      fill: #D2E3FC;\n",
              "    }\n",
              "\n",
              "    [theme=dark] .colab-df-convert:hover {\n",
              "      background-color: #434B5C;\n",
              "      box-shadow: 0px 1px 3px 1px rgba(0, 0, 0, 0.15);\n",
              "      filter: drop-shadow(0px 1px 2px rgba(0, 0, 0, 0.3));\n",
              "      fill: #FFFFFF;\n",
              "    }\n",
              "  </style>\n",
              "\n",
              "    <script>\n",
              "      const buttonEl =\n",
              "        document.querySelector('#df-7485d15c-a27a-4b93-912e-d49309fa4db0 button.colab-df-convert');\n",
              "      buttonEl.style.display =\n",
              "        google.colab.kernel.accessAllowed ? 'block' : 'none';\n",
              "\n",
              "      async function convertToInteractive(key) {\n",
              "        const element = document.querySelector('#df-7485d15c-a27a-4b93-912e-d49309fa4db0');\n",
              "        const dataTable =\n",
              "          await google.colab.kernel.invokeFunction('convertToInteractive',\n",
              "                                                    [key], {});\n",
              "        if (!dataTable) return;\n",
              "\n",
              "        const docLinkHtml = 'Like what you see? Visit the ' +\n",
              "          '<a target=\"_blank\" href=https://colab.research.google.com/notebooks/data_table.ipynb>data table notebook</a>'\n",
              "          + ' to learn more about interactive tables.';\n",
              "        element.innerHTML = '';\n",
              "        dataTable['output_type'] = 'display_data';\n",
              "        await google.colab.output.renderOutput(dataTable, element);\n",
              "        const docLink = document.createElement('div');\n",
              "        docLink.innerHTML = docLinkHtml;\n",
              "        element.appendChild(docLink);\n",
              "      }\n",
              "    </script>\n",
              "  </div>\n",
              "\n",
              "\n",
              "<div id=\"df-dd22f22c-f744-4233-8f76-baee0ed4b83d\">\n",
              "  <button class=\"colab-df-quickchart\" onclick=\"quickchart('df-dd22f22c-f744-4233-8f76-baee0ed4b83d')\"\n",
              "            title=\"Suggest charts\"\n",
              "            style=\"display:none;\">\n",
              "\n",
              "<svg xmlns=\"http://www.w3.org/2000/svg\" height=\"24px\"viewBox=\"0 0 24 24\"\n",
              "     width=\"24px\">\n",
              "    <g>\n",
              "        <path d=\"M19 3H5c-1.1 0-2 .9-2 2v14c0 1.1.9 2 2 2h14c1.1 0 2-.9 2-2V5c0-1.1-.9-2-2-2zM9 17H7v-7h2v7zm4 0h-2V7h2v10zm4 0h-2v-4h2v4z\"/>\n",
              "    </g>\n",
              "</svg>\n",
              "  </button>\n",
              "\n",
              "<style>\n",
              "  .colab-df-quickchart {\n",
              "      --bg-color: #E8F0FE;\n",
              "      --fill-color: #1967D2;\n",
              "      --hover-bg-color: #E2EBFA;\n",
              "      --hover-fill-color: #174EA6;\n",
              "      --disabled-fill-color: #AAA;\n",
              "      --disabled-bg-color: #DDD;\n",
              "  }\n",
              "\n",
              "  [theme=dark] .colab-df-quickchart {\n",
              "      --bg-color: #3B4455;\n",
              "      --fill-color: #D2E3FC;\n",
              "      --hover-bg-color: #434B5C;\n",
              "      --hover-fill-color: #FFFFFF;\n",
              "      --disabled-bg-color: #3B4455;\n",
              "      --disabled-fill-color: #666;\n",
              "  }\n",
              "\n",
              "  .colab-df-quickchart {\n",
              "    background-color: var(--bg-color);\n",
              "    border: none;\n",
              "    border-radius: 50%;\n",
              "    cursor: pointer;\n",
              "    display: none;\n",
              "    fill: var(--fill-color);\n",
              "    height: 32px;\n",
              "    padding: 0;\n",
              "    width: 32px;\n",
              "  }\n",
              "\n",
              "  .colab-df-quickchart:hover {\n",
              "    background-color: var(--hover-bg-color);\n",
              "    box-shadow: 0 1px 2px rgba(60, 64, 67, 0.3), 0 1px 3px 1px rgba(60, 64, 67, 0.15);\n",
              "    fill: var(--button-hover-fill-color);\n",
              "  }\n",
              "\n",
              "  .colab-df-quickchart-complete:disabled,\n",
              "  .colab-df-quickchart-complete:disabled:hover {\n",
              "    background-color: var(--disabled-bg-color);\n",
              "    fill: var(--disabled-fill-color);\n",
              "    box-shadow: none;\n",
              "  }\n",
              "\n",
              "  .colab-df-spinner {\n",
              "    border: 2px solid var(--fill-color);\n",
              "    border-color: transparent;\n",
              "    border-bottom-color: var(--fill-color);\n",
              "    animation:\n",
              "      spin 1s steps(1) infinite;\n",
              "  }\n",
              "\n",
              "  @keyframes spin {\n",
              "    0% {\n",
              "      border-color: transparent;\n",
              "      border-bottom-color: var(--fill-color);\n",
              "      border-left-color: var(--fill-color);\n",
              "    }\n",
              "    20% {\n",
              "      border-color: transparent;\n",
              "      border-left-color: var(--fill-color);\n",
              "      border-top-color: var(--fill-color);\n",
              "    }\n",
              "    30% {\n",
              "      border-color: transparent;\n",
              "      border-left-color: var(--fill-color);\n",
              "      border-top-color: var(--fill-color);\n",
              "      border-right-color: var(--fill-color);\n",
              "    }\n",
              "    40% {\n",
              "      border-color: transparent;\n",
              "      border-right-color: var(--fill-color);\n",
              "      border-top-color: var(--fill-color);\n",
              "    }\n",
              "    60% {\n",
              "      border-color: transparent;\n",
              "      border-right-color: var(--fill-color);\n",
              "    }\n",
              "    80% {\n",
              "      border-color: transparent;\n",
              "      border-right-color: var(--fill-color);\n",
              "      border-bottom-color: var(--fill-color);\n",
              "    }\n",
              "    90% {\n",
              "      border-color: transparent;\n",
              "      border-bottom-color: var(--fill-color);\n",
              "    }\n",
              "  }\n",
              "</style>\n",
              "\n",
              "  <script>\n",
              "    async function quickchart(key) {\n",
              "      const quickchartButtonEl =\n",
              "        document.querySelector('#' + key + ' button');\n",
              "      quickchartButtonEl.disabled = true;  // To prevent multiple clicks.\n",
              "      quickchartButtonEl.classList.add('colab-df-spinner');\n",
              "      try {\n",
              "        const charts = await google.colab.kernel.invokeFunction(\n",
              "            'suggestCharts', [key], {});\n",
              "      } catch (error) {\n",
              "        console.error('Error during call to suggestCharts:', error);\n",
              "      }\n",
              "      quickchartButtonEl.classList.remove('colab-df-spinner');\n",
              "      quickchartButtonEl.classList.add('colab-df-quickchart-complete');\n",
              "    }\n",
              "    (() => {\n",
              "      let quickchartButtonEl =\n",
              "        document.querySelector('#df-dd22f22c-f744-4233-8f76-baee0ed4b83d button');\n",
              "      quickchartButtonEl.style.display =\n",
              "        google.colab.kernel.accessAllowed ? 'block' : 'none';\n",
              "    })();\n",
              "  </script>\n",
              "</div>\n",
              "    </div>\n",
              "  </div>\n"
            ],
            "application/vnd.google.colaboratory.intrinsic+json": {
              "type": "dataframe",
              "summary": "{\n  \"name\": \"chipotle\",\n  \"rows\": 8,\n  \"fields\": [\n    {\n      \"column\": \"order_id\",\n      \"properties\": {\n        \"dtype\": \"number\",\n        \"std\": 1441.9860407220838,\n        \"min\": 1.0,\n        \"max\": 4622.0,\n        \"num_unique_values\": 8,\n        \"samples\": [\n          927.2548680225011,\n          926.0,\n          4622.0\n        ],\n        \"semantic_type\": \"\",\n        \"description\": \"\"\n      }\n    },\n    {\n      \"column\": \"quantity\",\n      \"properties\": {\n        \"dtype\": \"number\",\n        \"std\": 1633.0965283367177,\n        \"min\": 0.41018633425753315,\n        \"max\": 4622.0,\n        \"num_unique_values\": 5,\n        \"samples\": [\n          1.0757247944612722,\n          15.0,\n          0.41018633425753315\n        ],\n        \"semantic_type\": \"\",\n        \"description\": \"\"\n      }\n    }\n  ]\n}"
            }
          },
          "metadata": {},
          "execution_count": 9
        }
      ]
    },
    {
      "cell_type": "code",
      "source": [
        "missing_values = chipotle.isnull().sum()\n",
        "print(missing_values)"
      ],
      "metadata": {
        "colab": {
          "base_uri": "https://localhost:8080/"
        },
        "id": "kfzEhtW7-5v3",
        "outputId": "56570a0c-d196-4995-994e-5fd9e6d72d90"
      },
      "execution_count": 10,
      "outputs": [
        {
          "output_type": "stream",
          "name": "stdout",
          "text": [
            "order_id                 0\n",
            "quantity                 0\n",
            "item_name                0\n",
            "choice_description    1246\n",
            "item_price               0\n",
            "dtype: int64\n"
          ]
        }
      ]
    },
    {
      "cell_type": "code",
      "source": [
        "#3. Data Types:\n",
        "data_types =chipotle.dtypes\n",
        "print(data_types)"
      ],
      "metadata": {
        "colab": {
          "base_uri": "https://localhost:8080/"
        },
        "id": "9MWToUMACRPE",
        "outputId": "084c5bc0-e0dc-424c-93e9-f917d8e47c29"
      },
      "execution_count": 11,
      "outputs": [
        {
          "output_type": "stream",
          "name": "stdout",
          "text": [
            "order_id               int64\n",
            "quantity               int64\n",
            "item_name             object\n",
            "choice_description    object\n",
            "item_price            object\n",
            "dtype: object\n"
          ]
        }
      ]
    },
    {
      "cell_type": "code",
      "source": [
        "chipotle [ 'item_price'] = chipotle ['item_price'].str.replace('$','').astype(float)\n"
      ],
      "metadata": {
        "colab": {
          "base_uri": "https://localhost:8080/"
        },
        "id": "ZD8qV8jlDfd2",
        "outputId": "b1585d35-aea8-475a-bee2-c3e7625e16b8"
      },
      "execution_count": 12,
      "outputs": [
        {
          "output_type": "stream",
          "name": "stderr",
          "text": [
            "<ipython-input-12-7532c86c3eb7>:1: FutureWarning: The default value of regex will change from True to False in a future version. In addition, single character regular expressions will *not* be treated as literal strings when regex=True.\n",
            "  chipotle [ 'item_price'] = chipotle ['item_price'].str.replace('$','').astype(float)\n"
          ]
        }
      ]
    },
    {
      "cell_type": "code",
      "source": [
        "print(chipotle)"
      ],
      "metadata": {
        "colab": {
          "base_uri": "https://localhost:8080/"
        },
        "id": "k7Q_L4MEFcUu",
        "outputId": "6c09a4a5-5d63-4a1d-f230-580c72180af7"
      },
      "execution_count": 13,
      "outputs": [
        {
          "output_type": "stream",
          "name": "stdout",
          "text": [
            "      order_id  quantity                              item_name  \\\n",
            "0            1         1           Chips and Fresh Tomato Salsa   \n",
            "1            1         1                                   Izze   \n",
            "2            1         1                       Nantucket Nectar   \n",
            "3            1         1  Chips and Tomatillo-Green Chili Salsa   \n",
            "4            2         2                           Chicken Bowl   \n",
            "...        ...       ...                                    ...   \n",
            "4617      1833         1                          Steak Burrito   \n",
            "4618      1833         1                          Steak Burrito   \n",
            "4619      1834         1                     Chicken Salad Bowl   \n",
            "4620      1834         1                     Chicken Salad Bowl   \n",
            "4621      1834         1                     Chicken Salad Bowl   \n",
            "\n",
            "                                     choice_description  item_price  \n",
            "0                                                   NaN        2.39  \n",
            "1                                          [Clementine]        3.39  \n",
            "2                                               [Apple]        3.39  \n",
            "3                                                   NaN        2.39  \n",
            "4     [Tomatillo-Red Chili Salsa (Hot), [Black Beans...       16.98  \n",
            "...                                                 ...         ...  \n",
            "4617  [Fresh Tomato Salsa, [Rice, Black Beans, Sour ...       11.75  \n",
            "4618  [Fresh Tomato Salsa, [Rice, Sour Cream, Cheese...       11.75  \n",
            "4619  [Fresh Tomato Salsa, [Fajita Vegetables, Pinto...       11.25  \n",
            "4620  [Fresh Tomato Salsa, [Fajita Vegetables, Lettu...        8.75  \n",
            "4621  [Fresh Tomato Salsa, [Fajita Vegetables, Pinto...        8.75  \n",
            "\n",
            "[4622 rows x 5 columns]\n"
          ]
        }
      ]
    },
    {
      "cell_type": "code",
      "source": [
        "data_types =chipotle.dtypes\n",
        "print(data_types)"
      ],
      "metadata": {
        "colab": {
          "base_uri": "https://localhost:8080/"
        },
        "id": "zQbxxM7QFvNT",
        "outputId": "82154cd1-b32f-400e-d623-573bc5eef9f9"
      },
      "execution_count": 14,
      "outputs": [
        {
          "output_type": "stream",
          "name": "stdout",
          "text": [
            "order_id                int64\n",
            "quantity                int64\n",
            "item_name              object\n",
            "choice_description     object\n",
            "item_price            float64\n",
            "dtype: object\n"
          ]
        }
      ]
    },
    {
      "cell_type": "code",
      "source": [
        "duplicate_rows = chipotle[chipotle.duplicated()]\n",
        "print(duplicate_rows)\n",
        "\n"
      ],
      "metadata": {
        "colab": {
          "base_uri": "https://localhost:8080/"
        },
        "id": "NWfQ80FccC3V",
        "outputId": "49410637-5cd4-40e9-f0fc-cba0e36b8d3d"
      },
      "execution_count": 15,
      "outputs": [
        {
          "output_type": "stream",
          "name": "stdout",
          "text": [
            "      order_id  quantity                            item_name  \\\n",
            "238        103         1                        Steak Burrito   \n",
            "248        108         1                          Canned Soda   \n",
            "297        129         1                        Steak Burrito   \n",
            "381        165         1                    Canned Soft Drink   \n",
            "484        205         1                         Chicken Bowl   \n",
            "567        233         1                    Canned Soft Drink   \n",
            "617        254         1                                Chips   \n",
            "684        282         1                    Canned Soft Drink   \n",
            "773        319         1                         Chicken Bowl   \n",
            "908        376         1                        Steak Burrito   \n",
            "924        381         1                   Chicken Soft Tacos   \n",
            "1003       412         1                        Bottled Water   \n",
            "1117       462         1                      Chicken Burrito   \n",
            "1203       491         1                      Chicken Burrito   \n",
            "1245       507         1                    Canned Soft Drink   \n",
            "1381       561         1                    Canned Soft Drink   \n",
            "1410       573         1                        Bottled Water   \n",
            "1420       576         1                        Barbacoa Bowl   \n",
            "1421       576         1                  Barbacoa Salad Bowl   \n",
            "1502       610         1                      Chicken Burrito   \n",
            "1534       624         1  Chips and Tomatillo-Red Chili Salsa   \n",
            "1548       628         1                  Chips and Guacamole   \n",
            "1612       651         1                                 Izze   \n",
            "1791       724         1                    Canned Soft Drink   \n",
            "1792       724         1                    Canned Soft Drink   \n",
            "2078       838         1                   Chicken Soft Tacos   \n",
            "2127       856         1                      Chicken Burrito   \n",
            "2307       926         1                         Chicken Bowl   \n",
            "2318       926         1                         Chicken Bowl   \n",
            "2362       940         1                    Canned Soft Drink   \n",
            "2448       972         1                         Chicken Bowl   \n",
            "2553      1011         1                    Canned Soft Drink   \n",
            "2554      1011         1                    Canned Soft Drink   \n",
            "2560      1013         1                  Chips and Guacamole   \n",
            "2576      1020         1  Chips and Tomatillo Red Chili Salsa   \n",
            "2662      1057         1                   Chicken Soft Tacos   \n",
            "2708      1074         1                                Chips   \n",
            "2717      1078         1                         Chicken Bowl   \n",
            "2833      1125         1                      Chicken Burrito   \n",
            "2881      1144         1                        Bottled Water   \n",
            "2973      1182         1                         Chicken Bowl   \n",
            "2977      1184         1                           Steak Bowl   \n",
            "3121      1244         1                  Chips and Guacamole   \n",
            "3430      1377         1  Chips and Tomatillo Red Chili Salsa   \n",
            "3637      1454         1                   Chicken Soft Tacos   \n",
            "3716      1484         1                          Canned Soda   \n",
            "3764      1507         1                      Chicken Burrito   \n",
            "3829      1534         1                      Chicken Burrito   \n",
            "3924      1574         1                        Bottled Water   \n",
            "4112      1647         1                         Chicken Bowl   \n",
            "4155      1660         1                  Chips and Guacamole   \n",
            "4236      1691         1                         Chicken Bowl   \n",
            "4266      1701         1                                Chips   \n",
            "4372      1745         1                  Chips and Guacamole   \n",
            "4463      1778         1                    Canned Soft Drink   \n",
            "4479      1785         1                        Bottled Water   \n",
            "4544      1806         1                        Bottled Water   \n",
            "4570      1817         1                        Bottled Water   \n",
            "4603      1827         1                     Barbacoa Burrito   \n",
            "\n",
            "                                     choice_description  item_price  \n",
            "238   [Tomatillo Red Chili Salsa, [Rice, Black Beans...       11.75  \n",
            "248                                      [Mountain Dew]        1.09  \n",
            "297   [Tomatillo Green Chili Salsa, [Rice, Cheese, G...       11.75  \n",
            "381                                              [Coke]        1.25  \n",
            "484   [Fresh Tomato Salsa, [Fajita Vegetables, Rice,...        8.75  \n",
            "567                                         [Diet Coke]        1.25  \n",
            "617                                                 NaN        2.15  \n",
            "684                                              [Coke]        1.25  \n",
            "773   [Tomatillo-Green Chili Salsa (Medium), Black B...        8.49  \n",
            "908   [Roasted Chili Corn Salsa (Medium), [Rice, Faj...        8.99  \n",
            "924           [Tomatillo-Red Chili Salsa (Hot), Cheese]        8.49  \n",
            "1003                                                NaN        1.50  \n",
            "1117  [Fresh Tomato Salsa, [Rice, Black Beans, Chees...       11.25  \n",
            "1203  [Fresh Tomato Salsa, [Cheese, Sour Cream, Lett...        8.75  \n",
            "1245                                         [Lemonade]        1.25  \n",
            "1381                                             [Coke]        1.25  \n",
            "1410                                                NaN        1.50  \n",
            "1420                         [Roasted Chili Corn Salsa]        9.25  \n",
            "1421                         [Roasted Chili Corn Salsa]        9.39  \n",
            "1502  [Fresh Tomato Salsa, [Fajita Vegetables, Rice,...        8.75  \n",
            "1534                                                NaN        2.39  \n",
            "1548                                                NaN        4.45  \n",
            "1612                                       [Blackberry]        3.39  \n",
            "1791                                             [Coke]        1.25  \n",
            "1792                                             [Coke]        1.25  \n",
            "2078  [Fresh Tomato Salsa, [Cheese, Sour Cream, Lett...        8.75  \n",
            "2127  [Fresh Tomato Salsa, [Rice, Black Beans, Chees...       11.25  \n",
            "2307  [Roasted Chili Corn Salsa, [Fajita Vegetables,...        8.75  \n",
            "2318  [Roasted Chili Corn Salsa, [Fajita Vegetables,...        8.75  \n",
            "2362                                             [Coke]        1.25  \n",
            "2448  [Tomatillo Red Chili Salsa, [Rice, Black Beans...        8.75  \n",
            "2553                                             [Coke]        1.25  \n",
            "2554                                             [Coke]        1.25  \n",
            "2560                                                NaN        4.45  \n",
            "2576                                                NaN        2.95  \n",
            "2662  [Tomatillo Red Chili Salsa, [Fajita Vegetables...       11.25  \n",
            "2708                                                NaN        2.15  \n",
            "2717  [Fresh Tomato Salsa, [Rice, Black Beans, Chees...       11.25  \n",
            "2833      [Fresh Tomato Salsa, [Rice, Cheese, Lettuce]]        8.75  \n",
            "2881                                                NaN        1.50  \n",
            "2973  [Tomatillo-Red Chili Salsa (Hot), [Rice, Black...        8.49  \n",
            "2977  [Fresh Tomato Salsa, [Rice, Pinto Beans, Chees...        9.25  \n",
            "3121                                                NaN        4.45  \n",
            "3430                                                NaN        2.95  \n",
            "3637                         [Fresh Tomato Salsa, Rice]        8.75  \n",
            "3716                                       [Dr. Pepper]        1.09  \n",
            "3764  [Fresh Tomato Salsa, [Rice, Black Beans, Chees...        8.75  \n",
            "3829  [Fresh Tomato Salsa, [Rice, Cheese, Sour Cream...        8.75  \n",
            "3924                                                NaN        1.50  \n",
            "4112  [Fresh Tomato Salsa, [Fajita Vegetables, Rice,...       11.25  \n",
            "4155                                                NaN        4.45  \n",
            "4236                                       [White Rice]        8.50  \n",
            "4266                                                NaN        2.15  \n",
            "4372                                                NaN        4.45  \n",
            "4463                                         [Lemonade]        1.25  \n",
            "4479                                                NaN        1.50  \n",
            "4544                                                NaN        1.50  \n",
            "4570                                                NaN        1.50  \n",
            "4603                      [Tomatillo Green Chili Salsa]        9.25  \n"
          ]
        }
      ]
    },
    {
      "cell_type": "code",
      "source": [
        "print(chipotle)"
      ],
      "metadata": {
        "colab": {
          "base_uri": "https://localhost:8080/"
        },
        "id": "3soUS3LNdNLi",
        "outputId": "b862e793-521e-4505-a8a4-79c26694b49e"
      },
      "execution_count": 16,
      "outputs": [
        {
          "output_type": "stream",
          "name": "stdout",
          "text": [
            "      order_id  quantity                              item_name  \\\n",
            "0            1         1           Chips and Fresh Tomato Salsa   \n",
            "1            1         1                                   Izze   \n",
            "2            1         1                       Nantucket Nectar   \n",
            "3            1         1  Chips and Tomatillo-Green Chili Salsa   \n",
            "4            2         2                           Chicken Bowl   \n",
            "...        ...       ...                                    ...   \n",
            "4617      1833         1                          Steak Burrito   \n",
            "4618      1833         1                          Steak Burrito   \n",
            "4619      1834         1                     Chicken Salad Bowl   \n",
            "4620      1834         1                     Chicken Salad Bowl   \n",
            "4621      1834         1                     Chicken Salad Bowl   \n",
            "\n",
            "                                     choice_description  item_price  \n",
            "0                                                   NaN        2.39  \n",
            "1                                          [Clementine]        3.39  \n",
            "2                                               [Apple]        3.39  \n",
            "3                                                   NaN        2.39  \n",
            "4     [Tomatillo-Red Chili Salsa (Hot), [Black Beans...       16.98  \n",
            "...                                                 ...         ...  \n",
            "4617  [Fresh Tomato Salsa, [Rice, Black Beans, Sour ...       11.75  \n",
            "4618  [Fresh Tomato Salsa, [Rice, Sour Cream, Cheese...       11.75  \n",
            "4619  [Fresh Tomato Salsa, [Fajita Vegetables, Pinto...       11.25  \n",
            "4620  [Fresh Tomato Salsa, [Fajita Vegetables, Lettu...        8.75  \n",
            "4621  [Fresh Tomato Salsa, [Fajita Vegetables, Pinto...        8.75  \n",
            "\n",
            "[4622 rows x 5 columns]\n"
          ]
        }
      ]
    },
    {
      "cell_type": "code",
      "source": [
        "\n",
        "#1. Summary Statistics\n",
        "#First, get a quick overview of the \"Quantity\" column to identify any obvious anomalies.\n",
        "\n",
        "\n",
        "summary_statistics = chipotle['quantity'].describe()\n",
        "print(summary_statistics)"
      ],
      "metadata": {
        "colab": {
          "base_uri": "https://localhost:8080/"
        },
        "id": "qdU4cszSPjq2",
        "outputId": "fa5d5869-dbfc-4670-fa23-11f87878e9b4"
      },
      "execution_count": 17,
      "outputs": [
        {
          "output_type": "stream",
          "name": "stdout",
          "text": [
            "count    4622.000000\n",
            "mean        1.075725\n",
            "std         0.410186\n",
            "min         1.000000\n",
            "25%         1.000000\n",
            "50%         1.000000\n",
            "75%         1.000000\n",
            "max        15.000000\n",
            "Name: quantity, dtype: float64\n"
          ]
        }
      ]
    },
    {
      "cell_type": "code",
      "source": [
        "summary_item_price = chipotle ['item_price'].describe()\n",
        "print(summary_item_price)"
      ],
      "metadata": {
        "colab": {
          "base_uri": "https://localhost:8080/"
        },
        "id": "nmdSbB6MVo0i",
        "outputId": "01c3c72b-d86f-4450-da3a-a92147c7a6fb"
      },
      "execution_count": 18,
      "outputs": [
        {
          "output_type": "stream",
          "name": "stdout",
          "text": [
            "count    4622.000000\n",
            "mean        7.464336\n",
            "std         4.245557\n",
            "min         1.090000\n",
            "25%         3.390000\n",
            "50%         8.750000\n",
            "75%         9.250000\n",
            "max        44.250000\n",
            "Name: item_price, dtype: float64\n"
          ]
        }
      ]
    },
    {
      "cell_type": "code",
      "source": [
        "# Filter the DataFrame for entries with quantity greater than 5\n",
        "orders_with_quantity_greater_than_five = chipotle[chipotle['quantity'] > 5]\n",
        "\n",
        "# Display or analyze the filtered DataFrame\n",
        "print(orders_with_quantity_greater_than_five)"
      ],
      "metadata": {
        "colab": {
          "base_uri": "https://localhost:8080/"
        },
        "id": "BBEztsQSU34e",
        "outputId": "ebc1652a-9b7b-4891-de8e-b2bd4c41f155"
      },
      "execution_count": 19,
      "outputs": [
        {
          "output_type": "stream",
          "name": "stdout",
          "text": [
            "      order_id  quantity                     item_name choice_description  \\\n",
            "3598      1443        15  Chips and Fresh Tomato Salsa                NaN   \n",
            "3599      1443         7                 Bottled Water                NaN   \n",
            "3887      1559         8                 Side of Chips                NaN   \n",
            "4152      1660        10                 Bottled Water                NaN   \n",
            "\n",
            "      item_price  \n",
            "3598       44.25  \n",
            "3599       10.50  \n",
            "3887       13.52  \n",
            "4152       15.00  \n"
          ]
        }
      ]
    },
    {
      "cell_type": "code",
      "source": [
        "#4. i have checked for anamolies in quantity, i find no negative entries , depending on item name, after checking other restaurant datset i think that it is a valid entry.\n",
        "#item_price I have converted datatype, into float from object , I didnt find any negative entries or abnormal entries."
      ],
      "metadata": {
        "id": "HFbTUITxPxB1"
      },
      "execution_count": 20,
      "outputs": []
    },
    {
      "cell_type": "code",
      "source": [
        "summary_choice_description = chipotle ['choice_description'].describe()\n",
        "print(summary_choice_description)"
      ],
      "metadata": {
        "id": "8tn42w65iKj1",
        "colab": {
          "base_uri": "https://localhost:8080/"
        },
        "outputId": "9d141ef8-6ba1-4940-a4c6-43b283e46c1a"
      },
      "execution_count": 21,
      "outputs": [
        {
          "output_type": "stream",
          "name": "stdout",
          "text": [
            "count            3376\n",
            "unique           1043\n",
            "top       [Diet Coke]\n",
            "freq              134\n",
            "Name: choice_description, dtype: object\n"
          ]
        }
      ]
    },
    {
      "cell_type": "code",
      "source": [
        "chipotle['choice_description'] = chipotle['choice_description'].astype(str)\n"
      ],
      "metadata": {
        "id": "7hb3qwYzEOHy"
      },
      "execution_count": 22,
      "outputs": []
    },
    {
      "cell_type": "code",
      "source": [
        "data_types =chipotle.dtypes\n",
        "print(data_types)"
      ],
      "metadata": {
        "colab": {
          "base_uri": "https://localhost:8080/"
        },
        "id": "XkBHwvLiMKFH",
        "outputId": "7e9b95cb-6dfe-467f-d874-251f562ea411"
      },
      "execution_count": 23,
      "outputs": [
        {
          "output_type": "stream",
          "name": "stdout",
          "text": [
            "order_id                int64\n",
            "quantity                int64\n",
            "item_name              object\n",
            "choice_description     object\n",
            "item_price            float64\n",
            "dtype: object\n"
          ]
        }
      ]
    },
    {
      "cell_type": "code",
      "source": [
        "chipotle['choice_description'] = chipotle['choice_description'].str.replace('[', '').str.replace(']', '').str.split(',')"
      ],
      "metadata": {
        "colab": {
          "base_uri": "https://localhost:8080/"
        },
        "id": "T6apShMIQp5_",
        "outputId": "016ce541-e02b-4260-e901-a5cd65bff2f3"
      },
      "execution_count": 24,
      "outputs": [
        {
          "output_type": "stream",
          "name": "stderr",
          "text": [
            "<ipython-input-24-08a5d18f6ab2>:1: FutureWarning: The default value of regex will change from True to False in a future version. In addition, single character regular expressions will *not* be treated as literal strings when regex=True.\n",
            "  chipotle['choice_description'] = chipotle['choice_description'].str.replace('[', '').str.replace(']', '').str.split(',')\n"
          ]
        }
      ]
    },
    {
      "cell_type": "code",
      "source": [
        "print(chipotle)"
      ],
      "metadata": {
        "colab": {
          "base_uri": "https://localhost:8080/"
        },
        "id": "79YUUuIbTWd6",
        "outputId": "730ca9ab-ff89-4c2d-e586-5effe647f8ab"
      },
      "execution_count": 25,
      "outputs": [
        {
          "output_type": "stream",
          "name": "stdout",
          "text": [
            "      order_id  quantity                              item_name  \\\n",
            "0            1         1           Chips and Fresh Tomato Salsa   \n",
            "1            1         1                                   Izze   \n",
            "2            1         1                       Nantucket Nectar   \n",
            "3            1         1  Chips and Tomatillo-Green Chili Salsa   \n",
            "4            2         2                           Chicken Bowl   \n",
            "...        ...       ...                                    ...   \n",
            "4617      1833         1                          Steak Burrito   \n",
            "4618      1833         1                          Steak Burrito   \n",
            "4619      1834         1                     Chicken Salad Bowl   \n",
            "4620      1834         1                     Chicken Salad Bowl   \n",
            "4621      1834         1                     Chicken Salad Bowl   \n",
            "\n",
            "                                     choice_description  item_price  \n",
            "0                                                 [nan]        2.39  \n",
            "1                                          [Clementine]        3.39  \n",
            "2                                               [Apple]        3.39  \n",
            "3                                                 [nan]        2.39  \n",
            "4     [Tomatillo-Red Chili Salsa (Hot),  Black Beans...       16.98  \n",
            "...                                                 ...         ...  \n",
            "4617  [Fresh Tomato Salsa,  Rice,  Black Beans,  Sou...       11.75  \n",
            "4618  [Fresh Tomato Salsa,  Rice,  Sour Cream,  Chee...       11.75  \n",
            "4619  [Fresh Tomato Salsa,  Fajita Vegetables,  Pint...       11.25  \n",
            "4620  [Fresh Tomato Salsa,  Fajita Vegetables,  Lett...        8.75  \n",
            "4621  [Fresh Tomato Salsa,  Fajita Vegetables,  Pint...        8.75  \n",
            "\n",
            "[4622 rows x 5 columns]\n"
          ]
        }
      ]
    },
    {
      "cell_type": "code",
      "source": [
        "summary_order_id = chipotle['order_id'].describe()\n",
        "print(summary_order_id)"
      ],
      "metadata": {
        "colab": {
          "base_uri": "https://localhost:8080/"
        },
        "id": "q10ao1lwTjaX",
        "outputId": "fe3f760a-aea2-46a9-9a9c-e7a1cffcac6e"
      },
      "execution_count": 26,
      "outputs": [
        {
          "output_type": "stream",
          "name": "stdout",
          "text": [
            "count    4622.000000\n",
            "mean      927.254868\n",
            "std       528.890796\n",
            "min         1.000000\n",
            "25%       477.250000\n",
            "50%       926.000000\n",
            "75%      1393.000000\n",
            "max      1834.000000\n",
            "Name: order_id, dtype: float64\n"
          ]
        }
      ]
    },
    {
      "cell_type": "code",
      "source": [
        "chipotle['order_id'].nunique()"
      ],
      "metadata": {
        "colab": {
          "base_uri": "https://localhost:8080/"
        },
        "id": "srybHf8lUS4I",
        "outputId": "9a3e1a4e-7d6c-4726-a5dd-d31943a34f8d"
      },
      "execution_count": 27,
      "outputs": [
        {
          "output_type": "execute_result",
          "data": {
            "text/plain": [
              "1834"
            ]
          },
          "metadata": {},
          "execution_count": 27
        }
      ]
    },
    {
      "cell_type": "code",
      "source": [
        "chipotle.drop_duplicates(subset='order_id', keep='first', inplace=True)\n",
        "chipotle.reset_index()"
      ],
      "metadata": {
        "colab": {
          "base_uri": "https://localhost:8080/",
          "height": 423
        },
        "id": "NBsomuqTWvzq",
        "outputId": "55ba2990-1f1e-4ab6-9e3c-df57b306109a"
      },
      "execution_count": 28,
      "outputs": [
        {
          "output_type": "execute_result",
          "data": {
            "text/plain": [
              "      index  order_id  quantity                     item_name  \\\n",
              "0         0         1         1  Chips and Fresh Tomato Salsa   \n",
              "1         4         2         2                  Chicken Bowl   \n",
              "2         5         3         1                  Chicken Bowl   \n",
              "3         7         4         1                 Steak Burrito   \n",
              "4         9         5         1                 Steak Burrito   \n",
              "...     ...       ...       ...                           ...   \n",
              "1829   4610      1830         1                 Steak Burrito   \n",
              "1830   4612      1831         1                 Carnitas Bowl   \n",
              "1831   4615      1832         1            Chicken Soft Tacos   \n",
              "1832   4617      1833         1                 Steak Burrito   \n",
              "1833   4619      1834         1            Chicken Salad Bowl   \n",
              "\n",
              "                                     choice_description  item_price  \n",
              "0                                                 [nan]        2.39  \n",
              "1     [Tomatillo-Red Chili Salsa (Hot),  Black Beans...       16.98  \n",
              "2     [Fresh Tomato Salsa (Mild),  Rice,  Cheese,  S...       10.98  \n",
              "3     [Tomatillo Red Chili Salsa,  Fajita Vegetables...       11.75  \n",
              "4     [Fresh Tomato Salsa,  Rice,  Black Beans,  Pin...        9.25  \n",
              "...                                                 ...         ...  \n",
              "1829  [Fresh Tomato Salsa,  Rice,  Sour Cream,  Chee...       11.75  \n",
              "1830  [Fresh Tomato Salsa,  Fajita Vegetables,  Rice...        9.25  \n",
              "1831  [Fresh Tomato Salsa,  Rice,  Cheese,  Sour Cream]        8.75  \n",
              "1832  [Fresh Tomato Salsa,  Rice,  Black Beans,  Sou...       11.75  \n",
              "1833  [Fresh Tomato Salsa,  Fajita Vegetables,  Pint...       11.25  \n",
              "\n",
              "[1834 rows x 6 columns]"
            ],
            "text/html": [
              "\n",
              "  <div id=\"df-5571bdb6-acb1-4beb-a0f7-6ddd1f28e59f\" class=\"colab-df-container\">\n",
              "    <div>\n",
              "<style scoped>\n",
              "    .dataframe tbody tr th:only-of-type {\n",
              "        vertical-align: middle;\n",
              "    }\n",
              "\n",
              "    .dataframe tbody tr th {\n",
              "        vertical-align: top;\n",
              "    }\n",
              "\n",
              "    .dataframe thead th {\n",
              "        text-align: right;\n",
              "    }\n",
              "</style>\n",
              "<table border=\"1\" class=\"dataframe\">\n",
              "  <thead>\n",
              "    <tr style=\"text-align: right;\">\n",
              "      <th></th>\n",
              "      <th>index</th>\n",
              "      <th>order_id</th>\n",
              "      <th>quantity</th>\n",
              "      <th>item_name</th>\n",
              "      <th>choice_description</th>\n",
              "      <th>item_price</th>\n",
              "    </tr>\n",
              "  </thead>\n",
              "  <tbody>\n",
              "    <tr>\n",
              "      <th>0</th>\n",
              "      <td>0</td>\n",
              "      <td>1</td>\n",
              "      <td>1</td>\n",
              "      <td>Chips and Fresh Tomato Salsa</td>\n",
              "      <td>[nan]</td>\n",
              "      <td>2.39</td>\n",
              "    </tr>\n",
              "    <tr>\n",
              "      <th>1</th>\n",
              "      <td>4</td>\n",
              "      <td>2</td>\n",
              "      <td>2</td>\n",
              "      <td>Chicken Bowl</td>\n",
              "      <td>[Tomatillo-Red Chili Salsa (Hot),  Black Beans...</td>\n",
              "      <td>16.98</td>\n",
              "    </tr>\n",
              "    <tr>\n",
              "      <th>2</th>\n",
              "      <td>5</td>\n",
              "      <td>3</td>\n",
              "      <td>1</td>\n",
              "      <td>Chicken Bowl</td>\n",
              "      <td>[Fresh Tomato Salsa (Mild),  Rice,  Cheese,  S...</td>\n",
              "      <td>10.98</td>\n",
              "    </tr>\n",
              "    <tr>\n",
              "      <th>3</th>\n",
              "      <td>7</td>\n",
              "      <td>4</td>\n",
              "      <td>1</td>\n",
              "      <td>Steak Burrito</td>\n",
              "      <td>[Tomatillo Red Chili Salsa,  Fajita Vegetables...</td>\n",
              "      <td>11.75</td>\n",
              "    </tr>\n",
              "    <tr>\n",
              "      <th>4</th>\n",
              "      <td>9</td>\n",
              "      <td>5</td>\n",
              "      <td>1</td>\n",
              "      <td>Steak Burrito</td>\n",
              "      <td>[Fresh Tomato Salsa,  Rice,  Black Beans,  Pin...</td>\n",
              "      <td>9.25</td>\n",
              "    </tr>\n",
              "    <tr>\n",
              "      <th>...</th>\n",
              "      <td>...</td>\n",
              "      <td>...</td>\n",
              "      <td>...</td>\n",
              "      <td>...</td>\n",
              "      <td>...</td>\n",
              "      <td>...</td>\n",
              "    </tr>\n",
              "    <tr>\n",
              "      <th>1829</th>\n",
              "      <td>4610</td>\n",
              "      <td>1830</td>\n",
              "      <td>1</td>\n",
              "      <td>Steak Burrito</td>\n",
              "      <td>[Fresh Tomato Salsa,  Rice,  Sour Cream,  Chee...</td>\n",
              "      <td>11.75</td>\n",
              "    </tr>\n",
              "    <tr>\n",
              "      <th>1830</th>\n",
              "      <td>4612</td>\n",
              "      <td>1831</td>\n",
              "      <td>1</td>\n",
              "      <td>Carnitas Bowl</td>\n",
              "      <td>[Fresh Tomato Salsa,  Fajita Vegetables,  Rice...</td>\n",
              "      <td>9.25</td>\n",
              "    </tr>\n",
              "    <tr>\n",
              "      <th>1831</th>\n",
              "      <td>4615</td>\n",
              "      <td>1832</td>\n",
              "      <td>1</td>\n",
              "      <td>Chicken Soft Tacos</td>\n",
              "      <td>[Fresh Tomato Salsa,  Rice,  Cheese,  Sour Cream]</td>\n",
              "      <td>8.75</td>\n",
              "    </tr>\n",
              "    <tr>\n",
              "      <th>1832</th>\n",
              "      <td>4617</td>\n",
              "      <td>1833</td>\n",
              "      <td>1</td>\n",
              "      <td>Steak Burrito</td>\n",
              "      <td>[Fresh Tomato Salsa,  Rice,  Black Beans,  Sou...</td>\n",
              "      <td>11.75</td>\n",
              "    </tr>\n",
              "    <tr>\n",
              "      <th>1833</th>\n",
              "      <td>4619</td>\n",
              "      <td>1834</td>\n",
              "      <td>1</td>\n",
              "      <td>Chicken Salad Bowl</td>\n",
              "      <td>[Fresh Tomato Salsa,  Fajita Vegetables,  Pint...</td>\n",
              "      <td>11.25</td>\n",
              "    </tr>\n",
              "  </tbody>\n",
              "</table>\n",
              "<p>1834 rows × 6 columns</p>\n",
              "</div>\n",
              "    <div class=\"colab-df-buttons\">\n",
              "\n",
              "  <div class=\"colab-df-container\">\n",
              "    <button class=\"colab-df-convert\" onclick=\"convertToInteractive('df-5571bdb6-acb1-4beb-a0f7-6ddd1f28e59f')\"\n",
              "            title=\"Convert this dataframe to an interactive table.\"\n",
              "            style=\"display:none;\">\n",
              "\n",
              "  <svg xmlns=\"http://www.w3.org/2000/svg\" height=\"24px\" viewBox=\"0 -960 960 960\">\n",
              "    <path d=\"M120-120v-720h720v720H120Zm60-500h600v-160H180v160Zm220 220h160v-160H400v160Zm0 220h160v-160H400v160ZM180-400h160v-160H180v160Zm440 0h160v-160H620v160ZM180-180h160v-160H180v160Zm440 0h160v-160H620v160Z\"/>\n",
              "  </svg>\n",
              "    </button>\n",
              "\n",
              "  <style>\n",
              "    .colab-df-container {\n",
              "      display:flex;\n",
              "      gap: 12px;\n",
              "    }\n",
              "\n",
              "    .colab-df-convert {\n",
              "      background-color: #E8F0FE;\n",
              "      border: none;\n",
              "      border-radius: 50%;\n",
              "      cursor: pointer;\n",
              "      display: none;\n",
              "      fill: #1967D2;\n",
              "      height: 32px;\n",
              "      padding: 0 0 0 0;\n",
              "      width: 32px;\n",
              "    }\n",
              "\n",
              "    .colab-df-convert:hover {\n",
              "      background-color: #E2EBFA;\n",
              "      box-shadow: 0px 1px 2px rgba(60, 64, 67, 0.3), 0px 1px 3px 1px rgba(60, 64, 67, 0.15);\n",
              "      fill: #174EA6;\n",
              "    }\n",
              "\n",
              "    .colab-df-buttons div {\n",
              "      margin-bottom: 4px;\n",
              "    }\n",
              "\n",
              "    [theme=dark] .colab-df-convert {\n",
              "      background-color: #3B4455;\n",
              "      fill: #D2E3FC;\n",
              "    }\n",
              "\n",
              "    [theme=dark] .colab-df-convert:hover {\n",
              "      background-color: #434B5C;\n",
              "      box-shadow: 0px 1px 3px 1px rgba(0, 0, 0, 0.15);\n",
              "      filter: drop-shadow(0px 1px 2px rgba(0, 0, 0, 0.3));\n",
              "      fill: #FFFFFF;\n",
              "    }\n",
              "  </style>\n",
              "\n",
              "    <script>\n",
              "      const buttonEl =\n",
              "        document.querySelector('#df-5571bdb6-acb1-4beb-a0f7-6ddd1f28e59f button.colab-df-convert');\n",
              "      buttonEl.style.display =\n",
              "        google.colab.kernel.accessAllowed ? 'block' : 'none';\n",
              "\n",
              "      async function convertToInteractive(key) {\n",
              "        const element = document.querySelector('#df-5571bdb6-acb1-4beb-a0f7-6ddd1f28e59f');\n",
              "        const dataTable =\n",
              "          await google.colab.kernel.invokeFunction('convertToInteractive',\n",
              "                                                    [key], {});\n",
              "        if (!dataTable) return;\n",
              "\n",
              "        const docLinkHtml = 'Like what you see? Visit the ' +\n",
              "          '<a target=\"_blank\" href=https://colab.research.google.com/notebooks/data_table.ipynb>data table notebook</a>'\n",
              "          + ' to learn more about interactive tables.';\n",
              "        element.innerHTML = '';\n",
              "        dataTable['output_type'] = 'display_data';\n",
              "        await google.colab.output.renderOutput(dataTable, element);\n",
              "        const docLink = document.createElement('div');\n",
              "        docLink.innerHTML = docLinkHtml;\n",
              "        element.appendChild(docLink);\n",
              "      }\n",
              "    </script>\n",
              "  </div>\n",
              "\n",
              "\n",
              "<div id=\"df-49886f09-a1e8-45d0-b663-bd1e117e8450\">\n",
              "  <button class=\"colab-df-quickchart\" onclick=\"quickchart('df-49886f09-a1e8-45d0-b663-bd1e117e8450')\"\n",
              "            title=\"Suggest charts\"\n",
              "            style=\"display:none;\">\n",
              "\n",
              "<svg xmlns=\"http://www.w3.org/2000/svg\" height=\"24px\"viewBox=\"0 0 24 24\"\n",
              "     width=\"24px\">\n",
              "    <g>\n",
              "        <path d=\"M19 3H5c-1.1 0-2 .9-2 2v14c0 1.1.9 2 2 2h14c1.1 0 2-.9 2-2V5c0-1.1-.9-2-2-2zM9 17H7v-7h2v7zm4 0h-2V7h2v10zm4 0h-2v-4h2v4z\"/>\n",
              "    </g>\n",
              "</svg>\n",
              "  </button>\n",
              "\n",
              "<style>\n",
              "  .colab-df-quickchart {\n",
              "      --bg-color: #E8F0FE;\n",
              "      --fill-color: #1967D2;\n",
              "      --hover-bg-color: #E2EBFA;\n",
              "      --hover-fill-color: #174EA6;\n",
              "      --disabled-fill-color: #AAA;\n",
              "      --disabled-bg-color: #DDD;\n",
              "  }\n",
              "\n",
              "  [theme=dark] .colab-df-quickchart {\n",
              "      --bg-color: #3B4455;\n",
              "      --fill-color: #D2E3FC;\n",
              "      --hover-bg-color: #434B5C;\n",
              "      --hover-fill-color: #FFFFFF;\n",
              "      --disabled-bg-color: #3B4455;\n",
              "      --disabled-fill-color: #666;\n",
              "  }\n",
              "\n",
              "  .colab-df-quickchart {\n",
              "    background-color: var(--bg-color);\n",
              "    border: none;\n",
              "    border-radius: 50%;\n",
              "    cursor: pointer;\n",
              "    display: none;\n",
              "    fill: var(--fill-color);\n",
              "    height: 32px;\n",
              "    padding: 0;\n",
              "    width: 32px;\n",
              "  }\n",
              "\n",
              "  .colab-df-quickchart:hover {\n",
              "    background-color: var(--hover-bg-color);\n",
              "    box-shadow: 0 1px 2px rgba(60, 64, 67, 0.3), 0 1px 3px 1px rgba(60, 64, 67, 0.15);\n",
              "    fill: var(--button-hover-fill-color);\n",
              "  }\n",
              "\n",
              "  .colab-df-quickchart-complete:disabled,\n",
              "  .colab-df-quickchart-complete:disabled:hover {\n",
              "    background-color: var(--disabled-bg-color);\n",
              "    fill: var(--disabled-fill-color);\n",
              "    box-shadow: none;\n",
              "  }\n",
              "\n",
              "  .colab-df-spinner {\n",
              "    border: 2px solid var(--fill-color);\n",
              "    border-color: transparent;\n",
              "    border-bottom-color: var(--fill-color);\n",
              "    animation:\n",
              "      spin 1s steps(1) infinite;\n",
              "  }\n",
              "\n",
              "  @keyframes spin {\n",
              "    0% {\n",
              "      border-color: transparent;\n",
              "      border-bottom-color: var(--fill-color);\n",
              "      border-left-color: var(--fill-color);\n",
              "    }\n",
              "    20% {\n",
              "      border-color: transparent;\n",
              "      border-left-color: var(--fill-color);\n",
              "      border-top-color: var(--fill-color);\n",
              "    }\n",
              "    30% {\n",
              "      border-color: transparent;\n",
              "      border-left-color: var(--fill-color);\n",
              "      border-top-color: var(--fill-color);\n",
              "      border-right-color: var(--fill-color);\n",
              "    }\n",
              "    40% {\n",
              "      border-color: transparent;\n",
              "      border-right-color: var(--fill-color);\n",
              "      border-top-color: var(--fill-color);\n",
              "    }\n",
              "    60% {\n",
              "      border-color: transparent;\n",
              "      border-right-color: var(--fill-color);\n",
              "    }\n",
              "    80% {\n",
              "      border-color: transparent;\n",
              "      border-right-color: var(--fill-color);\n",
              "      border-bottom-color: var(--fill-color);\n",
              "    }\n",
              "    90% {\n",
              "      border-color: transparent;\n",
              "      border-bottom-color: var(--fill-color);\n",
              "    }\n",
              "  }\n",
              "</style>\n",
              "\n",
              "  <script>\n",
              "    async function quickchart(key) {\n",
              "      const quickchartButtonEl =\n",
              "        document.querySelector('#' + key + ' button');\n",
              "      quickchartButtonEl.disabled = true;  // To prevent multiple clicks.\n",
              "      quickchartButtonEl.classList.add('colab-df-spinner');\n",
              "      try {\n",
              "        const charts = await google.colab.kernel.invokeFunction(\n",
              "            'suggestCharts', [key], {});\n",
              "      } catch (error) {\n",
              "        console.error('Error during call to suggestCharts:', error);\n",
              "      }\n",
              "      quickchartButtonEl.classList.remove('colab-df-spinner');\n",
              "      quickchartButtonEl.classList.add('colab-df-quickchart-complete');\n",
              "    }\n",
              "    (() => {\n",
              "      let quickchartButtonEl =\n",
              "        document.querySelector('#df-49886f09-a1e8-45d0-b663-bd1e117e8450 button');\n",
              "      quickchartButtonEl.style.display =\n",
              "        google.colab.kernel.accessAllowed ? 'block' : 'none';\n",
              "    })();\n",
              "  </script>\n",
              "</div>\n",
              "    </div>\n",
              "  </div>\n"
            ],
            "application/vnd.google.colaboratory.intrinsic+json": {
              "type": "dataframe",
              "summary": "{\n  \"name\": \"chipotle\",\n  \"rows\": 1834,\n  \"fields\": [\n    {\n      \"column\": \"index\",\n      \"properties\": {\n        \"dtype\": \"number\",\n        \"std\": 1335,\n        \"min\": 0,\n        \"max\": 4619,\n        \"num_unique_values\": 1834,\n        \"samples\": [\n          1590,\n          808,\n          2495\n        ],\n        \"semantic_type\": \"\",\n        \"description\": \"\"\n      }\n    },\n    {\n      \"column\": \"order_id\",\n      \"properties\": {\n        \"dtype\": \"number\",\n        \"std\": 529,\n        \"min\": 1,\n        \"max\": 1834,\n        \"num_unique_values\": 1834,\n        \"samples\": [\n          644,\n          333,\n          991\n        ],\n        \"semantic_type\": \"\",\n        \"description\": \"\"\n      }\n    },\n    {\n      \"column\": \"quantity\",\n      \"properties\": {\n        \"dtype\": \"number\",\n        \"std\": 0,\n        \"min\": 1,\n        \"max\": 15,\n        \"num_unique_values\": 7,\n        \"samples\": [\n          1,\n          2,\n          15\n        ],\n        \"semantic_type\": \"\",\n        \"description\": \"\"\n      }\n    },\n    {\n      \"column\": \"item_name\",\n      \"properties\": {\n        \"dtype\": \"category\",\n        \"num_unique_values\": 45,\n        \"samples\": [\n          \"Salad\",\n          \"Burrito\",\n          \"Chips and Tomatillo Green Chili Salsa\"\n        ],\n        \"semantic_type\": \"\",\n        \"description\": \"\"\n      }\n    },\n    {\n      \"column\": \"choice_description\",\n      \"properties\": {\n        \"dtype\": \"object\",\n        \"semantic_type\": \"\",\n        \"description\": \"\"\n      }\n    },\n    {\n      \"column\": \"item_price\",\n      \"properties\": {\n        \"dtype\": \"number\",\n        \"std\": 3.6191582352098473,\n        \"min\": 1.09,\n        \"max\": 44.25,\n        \"num_unique_values\": 58,\n        \"samples\": [\n          2.39,\n          8.75,\n          4.3\n        ],\n        \"semantic_type\": \"\",\n        \"description\": \"\"\n      }\n    }\n  ]\n}"
            }
          },
          "metadata": {},
          "execution_count": 28
        }
      ]
    },
    {
      "cell_type": "code",
      "source": [
        "#standardization of item_name\n",
        "item_name_unique = chipotle['item_name'].unique()\n",
        "print(item_name_unique)"
      ],
      "metadata": {
        "id": "DCSTvjp5W-ez",
        "colab": {
          "base_uri": "https://localhost:8080/"
        },
        "outputId": "c292cf33-c8d1-4f80-eccd-081652a6238b"
      },
      "execution_count": 29,
      "outputs": [
        {
          "output_type": "stream",
          "name": "stdout",
          "text": [
            "['Chips and Fresh Tomato Salsa' 'Chicken Bowl' 'Steak Burrito'\n",
            " 'Chicken Crispy Tacos' 'Chips and Tomatillo-Green Chili Salsa'\n",
            " 'Chicken Burrito' 'Barbacoa Burrito' 'Carnitas Burrito' 'Carnitas Bowl'\n",
            " 'Chicken Soft Tacos' 'Barbacoa Bowl' 'Chips and Guacamole' 'Steak Bowl'\n",
            " 'Barbacoa Soft Tacos' 'Izze' 'Veggie Bowl' 'Veggie Burrito'\n",
            " 'Steak Soft Tacos' 'Chicken Salad Bowl' 'Canned Soda' 'Chicken Salad'\n",
            " 'Steak Salad Bowl' 'Canned Soft Drink' 'Steak Crispy Tacos' 'Bowl'\n",
            " 'Burrito' 'Chips and Tomatillo Green Chili Salsa' 'Steak Salad'\n",
            " 'Bottled Water' '6 Pack Soft Drink' 'Barbacoa Crispy Tacos'\n",
            " 'Veggie Soft Tacos' 'Side of Chips' 'Chips'\n",
            " 'Chips and Roasted Chili Corn Salsa' 'Carnitas Crispy Tacos'\n",
            " 'Barbacoa Salad Bowl' 'Veggie Salad Bowl' 'Carnitas Soft Tacos' 'Salad'\n",
            " 'Nantucket Nectar' 'Chips and Tomatillo Red Chili Salsa'\n",
            " 'Carnitas Salad Bowl' 'Veggie Salad' 'Carnitas Salad']\n"
          ]
        }
      ]
    },
    {
      "cell_type": "code",
      "source": [
        "# Replace specific item names\n",
        "chipotle['item_name'] = chipotle['item_name'].replace({'Veggie Salad': 'Veggie Salad Bowl', 'Chicken Salad':'Chicken Salad Bowl','Side of Chips':'chips',\n",
        "                                                        'Carnitas Salad':'Carnitas Salad Bowl'})"
      ],
      "metadata": {
        "id": "VjlmUTm3HtwD"
      },
      "execution_count": 30,
      "outputs": []
    },
    {
      "cell_type": "code",
      "source": [
        "#standardizing names\n",
        " # Removing unexpected characters\n",
        "chipotle['item_name'] = chipotle['item_name'].str.replace('[^a-zA-Z0-9\\s]', '', regex=True)\n"
      ],
      "metadata": {
        "id": "7Tf8hegvKII2"
      },
      "execution_count": 31,
      "outputs": []
    },
    {
      "cell_type": "code",
      "source": [
        "chipotle['item_name'] = chipotle['item_name'].replace({'Chips and TomatilloGreen Chili Salsa': 'Chips and Tomatillo Green Chili Salsa'})"
      ],
      "metadata": {
        "id": "tuBO3wpgLrcW"
      },
      "execution_count": 32,
      "outputs": []
    },
    {
      "cell_type": "code",
      "source": [
        "item_name_unique = chipotle['item_name'].unique()\n",
        "print(item_name_unique)\n"
      ],
      "metadata": {
        "colab": {
          "base_uri": "https://localhost:8080/"
        },
        "id": "-ybuUCpWKngs",
        "outputId": "80a17346-b1b1-4e37-a3f4-47017438d43c"
      },
      "execution_count": 33,
      "outputs": [
        {
          "output_type": "stream",
          "name": "stdout",
          "text": [
            "['Chips and Fresh Tomato Salsa' 'Chicken Bowl' 'Steak Burrito'\n",
            " 'Chicken Crispy Tacos' 'Chips and Tomatillo Green Chili Salsa'\n",
            " 'Chicken Burrito' 'Barbacoa Burrito' 'Carnitas Burrito' 'Carnitas Bowl'\n",
            " 'Chicken Soft Tacos' 'Barbacoa Bowl' 'Chips and Guacamole' 'Steak Bowl'\n",
            " 'Barbacoa Soft Tacos' 'Izze' 'Veggie Bowl' 'Veggie Burrito'\n",
            " 'Steak Soft Tacos' 'Chicken Salad Bowl' 'Canned Soda' 'Steak Salad Bowl'\n",
            " 'Canned Soft Drink' 'Steak Crispy Tacos' 'Bowl' 'Burrito' 'Steak Salad'\n",
            " 'Bottled Water' '6 Pack Soft Drink' 'Barbacoa Crispy Tacos'\n",
            " 'Veggie Soft Tacos' 'chips' 'Chips' 'Chips and Roasted Chili Corn Salsa'\n",
            " 'Carnitas Crispy Tacos' 'Barbacoa Salad Bowl' 'Veggie Salad Bowl'\n",
            " 'Carnitas Soft Tacos' 'Salad' 'Nantucket Nectar'\n",
            " 'Chips and Tomatillo Red Chili Salsa' 'Carnitas Salad Bowl']\n"
          ]
        }
      ]
    },
    {
      "cell_type": "code",
      "source": [
        "chipotle['item_name'] = chipotle['item_name'].str.title()"
      ],
      "metadata": {
        "id": "HzSAMCcoL_E_"
      },
      "execution_count": 34,
      "outputs": []
    },
    {
      "cell_type": "code",
      "source": [
        "item_name_unique = chipotle['item_name'].unique()\n",
        "print(item_name_unique)\n"
      ],
      "metadata": {
        "colab": {
          "base_uri": "https://localhost:8080/"
        },
        "id": "Au-TbE7JMMOW",
        "outputId": "1068ab70-07e4-4d11-e4cd-0a5e96136e2b"
      },
      "execution_count": 35,
      "outputs": [
        {
          "output_type": "stream",
          "name": "stdout",
          "text": [
            "['Chips And Fresh Tomato Salsa' 'Chicken Bowl' 'Steak Burrito'\n",
            " 'Chicken Crispy Tacos' 'Chips And Tomatillo Green Chili Salsa'\n",
            " 'Chicken Burrito' 'Barbacoa Burrito' 'Carnitas Burrito' 'Carnitas Bowl'\n",
            " 'Chicken Soft Tacos' 'Barbacoa Bowl' 'Chips And Guacamole' 'Steak Bowl'\n",
            " 'Barbacoa Soft Tacos' 'Izze' 'Veggie Bowl' 'Veggie Burrito'\n",
            " 'Steak Soft Tacos' 'Chicken Salad Bowl' 'Canned Soda' 'Steak Salad Bowl'\n",
            " 'Canned Soft Drink' 'Steak Crispy Tacos' 'Bowl' 'Burrito' 'Steak Salad'\n",
            " 'Bottled Water' '6 Pack Soft Drink' 'Barbacoa Crispy Tacos'\n",
            " 'Veggie Soft Tacos' 'Chips' 'Chips And Roasted Chili Corn Salsa'\n",
            " 'Carnitas Crispy Tacos' 'Barbacoa Salad Bowl' 'Veggie Salad Bowl'\n",
            " 'Carnitas Soft Tacos' 'Salad' 'Nantucket Nectar'\n",
            " 'Chips And Tomatillo Red Chili Salsa' 'Carnitas Salad Bowl']\n"
          ]
        }
      ]
    },
    {
      "cell_type": "code",
      "source": [
        "print (chipotle)"
      ],
      "metadata": {
        "id": "WChFH4fXMkGL",
        "colab": {
          "base_uri": "https://localhost:8080/"
        },
        "outputId": "f96137a6-7c89-46c0-b341-740d3c22a08e"
      },
      "execution_count": 36,
      "outputs": [
        {
          "output_type": "stream",
          "name": "stdout",
          "text": [
            "      order_id  quantity                     item_name  \\\n",
            "0            1         1  Chips And Fresh Tomato Salsa   \n",
            "4            2         2                  Chicken Bowl   \n",
            "5            3         1                  Chicken Bowl   \n",
            "7            4         1                 Steak Burrito   \n",
            "9            5         1                 Steak Burrito   \n",
            "...        ...       ...                           ...   \n",
            "4610      1830         1                 Steak Burrito   \n",
            "4612      1831         1                 Carnitas Bowl   \n",
            "4615      1832         1            Chicken Soft Tacos   \n",
            "4617      1833         1                 Steak Burrito   \n",
            "4619      1834         1            Chicken Salad Bowl   \n",
            "\n",
            "                                     choice_description  item_price  \n",
            "0                                                 [nan]        2.39  \n",
            "4     [Tomatillo-Red Chili Salsa (Hot),  Black Beans...       16.98  \n",
            "5     [Fresh Tomato Salsa (Mild),  Rice,  Cheese,  S...       10.98  \n",
            "7     [Tomatillo Red Chili Salsa,  Fajita Vegetables...       11.75  \n",
            "9     [Fresh Tomato Salsa,  Rice,  Black Beans,  Pin...        9.25  \n",
            "...                                                 ...         ...  \n",
            "4610  [Fresh Tomato Salsa,  Rice,  Sour Cream,  Chee...       11.75  \n",
            "4612  [Fresh Tomato Salsa,  Fajita Vegetables,  Rice...        9.25  \n",
            "4615  [Fresh Tomato Salsa,  Rice,  Cheese,  Sour Cream]        8.75  \n",
            "4617  [Fresh Tomato Salsa,  Rice,  Black Beans,  Sou...       11.75  \n",
            "4619  [Fresh Tomato Salsa,  Fajita Vegetables,  Pint...       11.25  \n",
            "\n",
            "[1834 rows x 5 columns]\n"
          ]
        }
      ]
    },
    {
      "cell_type": "code",
      "source": [
        "chipotle['unit_price'] = chipotle['item_price'] / chipotle['quantity']\n",
        "print(chipotle['item_price'])\n",
        "\n",
        "print(chipotle['unit_price'])\n"
      ],
      "metadata": {
        "colab": {
          "base_uri": "https://localhost:8080/"
        },
        "id": "ZpK-mLCj1omg",
        "outputId": "2057803e-0a51-49de-9dec-7211a3fea27d"
      },
      "execution_count": 42,
      "outputs": [
        {
          "output_type": "stream",
          "name": "stdout",
          "text": [
            "0        2.39\n",
            "4       16.98\n",
            "5       10.98\n",
            "7       11.75\n",
            "9        9.25\n",
            "        ...  \n",
            "4610    11.75\n",
            "4612     9.25\n",
            "4615     8.75\n",
            "4617    11.75\n",
            "4619    11.25\n",
            "Name: item_price, Length: 1834, dtype: float64\n",
            "0        2.39\n",
            "4        8.49\n",
            "5       10.98\n",
            "7       11.75\n",
            "9        9.25\n",
            "        ...  \n",
            "4610    11.75\n",
            "4612     9.25\n",
            "4615     8.75\n",
            "4617    11.75\n",
            "4619    11.25\n",
            "Name: unit_price, Length: 1834, dtype: float64\n"
          ]
        }
      ]
    },
    {
      "cell_type": "code",
      "source": [
        "# Convert the 'choice_description' column to a string representation of the list\n",
        "chipotle['choice_description_str'] = chipotle['choice_description'].astype(str)\n",
        "\n",
        "# Now perform the groupby operation using 'item_name' and the newly created 'choice_description_str' column\n",
        "inconsistencies = chipotle.groupby(['item_name', 'choice_description_str'])['unit_price'].nunique()\n",
        "\n",
        "# Identify items with inconsistent unit prices (where the number of unique unit prices is greater than 1)\n",
        "inconsistent_items = inconsistencies[inconsistencies > 1].reset_index()\n",
        "\n",
        "# Show the result\n",
        "inconsistent_items.head()\n"
      ],
      "metadata": {
        "colab": {
          "base_uri": "https://localhost:8080/",
          "height": 206
        },
        "id": "t5kIMqFf3g6s",
        "outputId": "6c4c4cd0-aa9a-457f-b55d-b0e8ea0032e1"
      },
      "execution_count": 57,
      "outputs": [
        {
          "output_type": "execute_result",
          "data": {
            "text/plain": [
              "                               item_name choice_description_str  unit_price\n",
              "0                          Bottled Water                ['nan']           2\n",
              "1                                  Chips                ['nan']           2\n",
              "2           Chips And Fresh Tomato Salsa                ['nan']           2\n",
              "3                    Chips And Guacamole                ['nan']           3\n",
              "4  Chips And Tomatillo Green Chili Salsa                ['nan']           2"
            ],
            "text/html": [
              "\n",
              "  <div id=\"df-6e848cc7-3dec-49e8-b8f3-6cc3ba97f8b7\" class=\"colab-df-container\">\n",
              "    <div>\n",
              "<style scoped>\n",
              "    .dataframe tbody tr th:only-of-type {\n",
              "        vertical-align: middle;\n",
              "    }\n",
              "\n",
              "    .dataframe tbody tr th {\n",
              "        vertical-align: top;\n",
              "    }\n",
              "\n",
              "    .dataframe thead th {\n",
              "        text-align: right;\n",
              "    }\n",
              "</style>\n",
              "<table border=\"1\" class=\"dataframe\">\n",
              "  <thead>\n",
              "    <tr style=\"text-align: right;\">\n",
              "      <th></th>\n",
              "      <th>item_name</th>\n",
              "      <th>choice_description_str</th>\n",
              "      <th>unit_price</th>\n",
              "    </tr>\n",
              "  </thead>\n",
              "  <tbody>\n",
              "    <tr>\n",
              "      <th>0</th>\n",
              "      <td>Bottled Water</td>\n",
              "      <td>['nan']</td>\n",
              "      <td>2</td>\n",
              "    </tr>\n",
              "    <tr>\n",
              "      <th>1</th>\n",
              "      <td>Chips</td>\n",
              "      <td>['nan']</td>\n",
              "      <td>2</td>\n",
              "    </tr>\n",
              "    <tr>\n",
              "      <th>2</th>\n",
              "      <td>Chips And Fresh Tomato Salsa</td>\n",
              "      <td>['nan']</td>\n",
              "      <td>2</td>\n",
              "    </tr>\n",
              "    <tr>\n",
              "      <th>3</th>\n",
              "      <td>Chips And Guacamole</td>\n",
              "      <td>['nan']</td>\n",
              "      <td>3</td>\n",
              "    </tr>\n",
              "    <tr>\n",
              "      <th>4</th>\n",
              "      <td>Chips And Tomatillo Green Chili Salsa</td>\n",
              "      <td>['nan']</td>\n",
              "      <td>2</td>\n",
              "    </tr>\n",
              "  </tbody>\n",
              "</table>\n",
              "</div>\n",
              "    <div class=\"colab-df-buttons\">\n",
              "\n",
              "  <div class=\"colab-df-container\">\n",
              "    <button class=\"colab-df-convert\" onclick=\"convertToInteractive('df-6e848cc7-3dec-49e8-b8f3-6cc3ba97f8b7')\"\n",
              "            title=\"Convert this dataframe to an interactive table.\"\n",
              "            style=\"display:none;\">\n",
              "\n",
              "  <svg xmlns=\"http://www.w3.org/2000/svg\" height=\"24px\" viewBox=\"0 -960 960 960\">\n",
              "    <path d=\"M120-120v-720h720v720H120Zm60-500h600v-160H180v160Zm220 220h160v-160H400v160Zm0 220h160v-160H400v160ZM180-400h160v-160H180v160Zm440 0h160v-160H620v160ZM180-180h160v-160H180v160Zm440 0h160v-160H620v160Z\"/>\n",
              "  </svg>\n",
              "    </button>\n",
              "\n",
              "  <style>\n",
              "    .colab-df-container {\n",
              "      display:flex;\n",
              "      gap: 12px;\n",
              "    }\n",
              "\n",
              "    .colab-df-convert {\n",
              "      background-color: #E8F0FE;\n",
              "      border: none;\n",
              "      border-radius: 50%;\n",
              "      cursor: pointer;\n",
              "      display: none;\n",
              "      fill: #1967D2;\n",
              "      height: 32px;\n",
              "      padding: 0 0 0 0;\n",
              "      width: 32px;\n",
              "    }\n",
              "\n",
              "    .colab-df-convert:hover {\n",
              "      background-color: #E2EBFA;\n",
              "      box-shadow: 0px 1px 2px rgba(60, 64, 67, 0.3), 0px 1px 3px 1px rgba(60, 64, 67, 0.15);\n",
              "      fill: #174EA6;\n",
              "    }\n",
              "\n",
              "    .colab-df-buttons div {\n",
              "      margin-bottom: 4px;\n",
              "    }\n",
              "\n",
              "    [theme=dark] .colab-df-convert {\n",
              "      background-color: #3B4455;\n",
              "      fill: #D2E3FC;\n",
              "    }\n",
              "\n",
              "    [theme=dark] .colab-df-convert:hover {\n",
              "      background-color: #434B5C;\n",
              "      box-shadow: 0px 1px 3px 1px rgba(0, 0, 0, 0.15);\n",
              "      filter: drop-shadow(0px 1px 2px rgba(0, 0, 0, 0.3));\n",
              "      fill: #FFFFFF;\n",
              "    }\n",
              "  </style>\n",
              "\n",
              "    <script>\n",
              "      const buttonEl =\n",
              "        document.querySelector('#df-6e848cc7-3dec-49e8-b8f3-6cc3ba97f8b7 button.colab-df-convert');\n",
              "      buttonEl.style.display =\n",
              "        google.colab.kernel.accessAllowed ? 'block' : 'none';\n",
              "\n",
              "      async function convertToInteractive(key) {\n",
              "        const element = document.querySelector('#df-6e848cc7-3dec-49e8-b8f3-6cc3ba97f8b7');\n",
              "        const dataTable =\n",
              "          await google.colab.kernel.invokeFunction('convertToInteractive',\n",
              "                                                    [key], {});\n",
              "        if (!dataTable) return;\n",
              "\n",
              "        const docLinkHtml = 'Like what you see? Visit the ' +\n",
              "          '<a target=\"_blank\" href=https://colab.research.google.com/notebooks/data_table.ipynb>data table notebook</a>'\n",
              "          + ' to learn more about interactive tables.';\n",
              "        element.innerHTML = '';\n",
              "        dataTable['output_type'] = 'display_data';\n",
              "        await google.colab.output.renderOutput(dataTable, element);\n",
              "        const docLink = document.createElement('div');\n",
              "        docLink.innerHTML = docLinkHtml;\n",
              "        element.appendChild(docLink);\n",
              "      }\n",
              "    </script>\n",
              "  </div>\n",
              "\n",
              "\n",
              "<div id=\"df-aee6d4be-8960-400a-abfd-3baefe33c4e4\">\n",
              "  <button class=\"colab-df-quickchart\" onclick=\"quickchart('df-aee6d4be-8960-400a-abfd-3baefe33c4e4')\"\n",
              "            title=\"Suggest charts\"\n",
              "            style=\"display:none;\">\n",
              "\n",
              "<svg xmlns=\"http://www.w3.org/2000/svg\" height=\"24px\"viewBox=\"0 0 24 24\"\n",
              "     width=\"24px\">\n",
              "    <g>\n",
              "        <path d=\"M19 3H5c-1.1 0-2 .9-2 2v14c0 1.1.9 2 2 2h14c1.1 0 2-.9 2-2V5c0-1.1-.9-2-2-2zM9 17H7v-7h2v7zm4 0h-2V7h2v10zm4 0h-2v-4h2v4z\"/>\n",
              "    </g>\n",
              "</svg>\n",
              "  </button>\n",
              "\n",
              "<style>\n",
              "  .colab-df-quickchart {\n",
              "      --bg-color: #E8F0FE;\n",
              "      --fill-color: #1967D2;\n",
              "      --hover-bg-color: #E2EBFA;\n",
              "      --hover-fill-color: #174EA6;\n",
              "      --disabled-fill-color: #AAA;\n",
              "      --disabled-bg-color: #DDD;\n",
              "  }\n",
              "\n",
              "  [theme=dark] .colab-df-quickchart {\n",
              "      --bg-color: #3B4455;\n",
              "      --fill-color: #D2E3FC;\n",
              "      --hover-bg-color: #434B5C;\n",
              "      --hover-fill-color: #FFFFFF;\n",
              "      --disabled-bg-color: #3B4455;\n",
              "      --disabled-fill-color: #666;\n",
              "  }\n",
              "\n",
              "  .colab-df-quickchart {\n",
              "    background-color: var(--bg-color);\n",
              "    border: none;\n",
              "    border-radius: 50%;\n",
              "    cursor: pointer;\n",
              "    display: none;\n",
              "    fill: var(--fill-color);\n",
              "    height: 32px;\n",
              "    padding: 0;\n",
              "    width: 32px;\n",
              "  }\n",
              "\n",
              "  .colab-df-quickchart:hover {\n",
              "    background-color: var(--hover-bg-color);\n",
              "    box-shadow: 0 1px 2px rgba(60, 64, 67, 0.3), 0 1px 3px 1px rgba(60, 64, 67, 0.15);\n",
              "    fill: var(--button-hover-fill-color);\n",
              "  }\n",
              "\n",
              "  .colab-df-quickchart-complete:disabled,\n",
              "  .colab-df-quickchart-complete:disabled:hover {\n",
              "    background-color: var(--disabled-bg-color);\n",
              "    fill: var(--disabled-fill-color);\n",
              "    box-shadow: none;\n",
              "  }\n",
              "\n",
              "  .colab-df-spinner {\n",
              "    border: 2px solid var(--fill-color);\n",
              "    border-color: transparent;\n",
              "    border-bottom-color: var(--fill-color);\n",
              "    animation:\n",
              "      spin 1s steps(1) infinite;\n",
              "  }\n",
              "\n",
              "  @keyframes spin {\n",
              "    0% {\n",
              "      border-color: transparent;\n",
              "      border-bottom-color: var(--fill-color);\n",
              "      border-left-color: var(--fill-color);\n",
              "    }\n",
              "    20% {\n",
              "      border-color: transparent;\n",
              "      border-left-color: var(--fill-color);\n",
              "      border-top-color: var(--fill-color);\n",
              "    }\n",
              "    30% {\n",
              "      border-color: transparent;\n",
              "      border-left-color: var(--fill-color);\n",
              "      border-top-color: var(--fill-color);\n",
              "      border-right-color: var(--fill-color);\n",
              "    }\n",
              "    40% {\n",
              "      border-color: transparent;\n",
              "      border-right-color: var(--fill-color);\n",
              "      border-top-color: var(--fill-color);\n",
              "    }\n",
              "    60% {\n",
              "      border-color: transparent;\n",
              "      border-right-color: var(--fill-color);\n",
              "    }\n",
              "    80% {\n",
              "      border-color: transparent;\n",
              "      border-right-color: var(--fill-color);\n",
              "      border-bottom-color: var(--fill-color);\n",
              "    }\n",
              "    90% {\n",
              "      border-color: transparent;\n",
              "      border-bottom-color: var(--fill-color);\n",
              "    }\n",
              "  }\n",
              "</style>\n",
              "\n",
              "  <script>\n",
              "    async function quickchart(key) {\n",
              "      const quickchartButtonEl =\n",
              "        document.querySelector('#' + key + ' button');\n",
              "      quickchartButtonEl.disabled = true;  // To prevent multiple clicks.\n",
              "      quickchartButtonEl.classList.add('colab-df-spinner');\n",
              "      try {\n",
              "        const charts = await google.colab.kernel.invokeFunction(\n",
              "            'suggestCharts', [key], {});\n",
              "      } catch (error) {\n",
              "        console.error('Error during call to suggestCharts:', error);\n",
              "      }\n",
              "      quickchartButtonEl.classList.remove('colab-df-spinner');\n",
              "      quickchartButtonEl.classList.add('colab-df-quickchart-complete');\n",
              "    }\n",
              "    (() => {\n",
              "      let quickchartButtonEl =\n",
              "        document.querySelector('#df-aee6d4be-8960-400a-abfd-3baefe33c4e4 button');\n",
              "      quickchartButtonEl.style.display =\n",
              "        google.colab.kernel.accessAllowed ? 'block' : 'none';\n",
              "    })();\n",
              "  </script>\n",
              "</div>\n",
              "    </div>\n",
              "  </div>\n"
            ],
            "application/vnd.google.colaboratory.intrinsic+json": {
              "type": "dataframe",
              "variable_name": "inconsistent_items",
              "summary": "{\n  \"name\": \"inconsistent_items\",\n  \"rows\": 5,\n  \"fields\": [\n    {\n      \"column\": \"item_name\",\n      \"properties\": {\n        \"dtype\": \"string\",\n        \"num_unique_values\": 5,\n        \"samples\": [\n          \"Chips\",\n          \"Chips And Tomatillo Green Chili Salsa\",\n          \"Chips And Fresh Tomato Salsa\"\n        ],\n        \"semantic_type\": \"\",\n        \"description\": \"\"\n      }\n    },\n    {\n      \"column\": \"choice_description_str\",\n      \"properties\": {\n        \"dtype\": \"category\",\n        \"num_unique_values\": 1,\n        \"samples\": [\n          \"['nan']\"\n        ],\n        \"semantic_type\": \"\",\n        \"description\": \"\"\n      }\n    },\n    {\n      \"column\": \"unit_price\",\n      \"properties\": {\n        \"dtype\": \"number\",\n        \"std\": 0,\n        \"min\": 2,\n        \"max\": 3,\n        \"num_unique_values\": 2,\n        \"samples\": [\n          3\n        ],\n        \"semantic_type\": \"\",\n        \"description\": \"\"\n      }\n    }\n  ]\n}"
            }
          },
          "metadata": {},
          "execution_count": 57
        }
      ]
    },
    {
      "source": [
        "from matplotlib import pyplot as plt\n",
        "_df_2['unit_price'].plot(kind='line', figsize=(8, 4), title='unit_price')\n",
        "plt.gca().spines[['top', 'right']].set_visible(False)"
      ],
      "cell_type": "code",
      "metadata": {
        "id": "bNHp02fK4e1F"
      },
      "execution_count": null,
      "outputs": []
    },
    {
      "source": [
        "# @title item_name\n",
        "\n",
        "from matplotlib import pyplot as plt\n",
        "import seaborn as sns\n",
        "inconsistent_items.groupby('item_name').size().plot(kind='barh', color=sns.palettes.mpl_palette('Dark2'))\n",
        "plt.gca().spines[['top', 'right',]].set_visible(False)"
      ],
      "cell_type": "code",
      "execution_count": 51,
      "outputs": [
        {
          "output_type": "display_data",
          "data": {
            "text/plain": [
              "<Figure size 640x480 with 1 Axes>"
            ],
            "image/png": "[encoded data removed]"
          },
          "metadata": {}
        }
      ],
      "metadata": {
        "cellView": "form",
        "colab": {
          "base_uri": "https://localhost:8080/",
          "height": 430
        },
        "id": "4B_MiXZt4YSp",
        "outputId": "d1478bca-7150-4399-ba6f-fb166538baec"
      }
    },
    {
      "source": [
        "# @title item_name vs unit_price\n",
        "\n",
        "from matplotlib import pyplot as plt\n",
        "import seaborn as sns\n",
        "figsize = (12, 1.2 * len(inconsistent_items['item_name'].unique()))\n",
        "plt.figure(figsize=figsize)\n",
        "sns.violinplot(inconsistent_items, x='unit_price', y='item_name', inner='stick', palette='Dark2')\n",
        "sns.despine(top=True, right=True, bottom=True, left=True)"
      ],
      "cell_type": "code",
      "execution_count": 47,
      "outputs": [
        {
          "output_type": "stream",
          "name": "stderr",
          "text": [
            "<ipython-input-47-a0cc7793e199>:7: FutureWarning: \n",
            "\n",
            "Passing `palette` without assigning `hue` is deprecated and will be removed in v0.14.0. Assign the `y` variable to `hue` and set `legend=False` for the same effect.\n",
            "\n",
            "  sns.violinplot(inconsistent_items, x='unit_price', y='item_name', inner='stick', palette='Dark2')\n"
          ]
        },
        {
          "output_type": "display_data",
          "data": {
            "text/plain": [
              "<Figure size 1200x600 with 1 Axes>"
            ],
            "image/png": "[encoded data removed]"
          },
          "metadata": {}
        }
      ],
      "metadata": {
        "cellView": "form",
        "colab": {
          "base_uri": "https://localhost:8080/",
          "height": 591
        },
        "id": "_w4x4q5739HG",
        "outputId": "ffe5b2c1-0500-4d7d-8932-16e2ab716e18"
      }
    },
    {
      "cell_type": "code",
      "source": [
        "# Using pandas to perform one-hot encoding\n",
        "chipotle_encoded = pd.get_dummies(chipotle, columns=['item_name'], prefix='item')"
      ],
      "metadata": {
        "id": "bP9MG7Wx4gv-"
      },
      "execution_count": 52,
      "outputs": []
    },
    {
      "cell_type": "code",
      "source": [
        "print(chipotle)"
      ],
      "metadata": {
        "colab": {
          "base_uri": "https://localhost:8080/"
        },
        "id": "lVgcXM_d-YUA",
        "outputId": "1e5cacdb-164c-490c-ac59-0f25c29abfea"
      },
      "execution_count": 53,
      "outputs": [
        {
          "output_type": "stream",
          "name": "stdout",
          "text": [
            "      order_id  quantity                     item_name  \\\n",
            "0            1         1  Chips And Fresh Tomato Salsa   \n",
            "4            2         2                  Chicken Bowl   \n",
            "5            3         1                  Chicken Bowl   \n",
            "7            4         1                 Steak Burrito   \n",
            "9            5         1                 Steak Burrito   \n",
            "...        ...       ...                           ...   \n",
            "4610      1830         1                 Steak Burrito   \n",
            "4612      1831         1                 Carnitas Bowl   \n",
            "4615      1832         1            Chicken Soft Tacos   \n",
            "4617      1833         1                 Steak Burrito   \n",
            "4619      1834         1            Chicken Salad Bowl   \n",
            "\n",
            "                                     choice_description  item_price  \\\n",
            "0                                                 [nan]        2.39   \n",
            "4     [Tomatillo-Red Chili Salsa (Hot),  Black Beans...       16.98   \n",
            "5     [Fresh Tomato Salsa (Mild),  Rice,  Cheese,  S...       10.98   \n",
            "7     [Tomatillo Red Chili Salsa,  Fajita Vegetables...       11.75   \n",
            "9     [Fresh Tomato Salsa,  Rice,  Black Beans,  Pin...        9.25   \n",
            "...                                                 ...         ...   \n",
            "4610  [Fresh Tomato Salsa,  Rice,  Sour Cream,  Chee...       11.75   \n",
            "4612  [Fresh Tomato Salsa,  Fajita Vegetables,  Rice...        9.25   \n",
            "4615  [Fresh Tomato Salsa,  Rice,  Cheese,  Sour Cream]        8.75   \n",
            "4617  [Fresh Tomato Salsa,  Rice,  Black Beans,  Sou...       11.75   \n",
            "4619  [Fresh Tomato Salsa,  Fajita Vegetables,  Pint...       11.25   \n",
            "\n",
            "      unit_price                             choice_description_str  \n",
            "0           2.39                                            ['nan']  \n",
            "4           8.49  ['Tomatillo-Red Chili Salsa (Hot)', ' Black Be...  \n",
            "5          10.98  ['Fresh Tomato Salsa (Mild)', ' Rice', ' Chees...  \n",
            "7          11.75  ['Tomatillo Red Chili Salsa', ' Fajita Vegetab...  \n",
            "9           9.25  ['Fresh Tomato Salsa', ' Rice', ' Black Beans'...  \n",
            "...          ...                                                ...  \n",
            "4610       11.75  ['Fresh Tomato Salsa', ' Rice', ' Sour Cream',...  \n",
            "4612        9.25  ['Fresh Tomato Salsa', ' Fajita Vegetables', '...  \n",
            "4615        8.75  ['Fresh Tomato Salsa', ' Rice', ' Cheese', ' S...  \n",
            "4617       11.75  ['Fresh Tomato Salsa', ' Rice', ' Black Beans'...  \n",
            "4619       11.25  ['Fresh Tomato Salsa', ' Fajita Vegetables', '...  \n",
            "\n",
            "[1834 rows x 7 columns]\n"
          ]
        }
      ]
    },
    {
      "cell_type": "code",
      "source": [
        "#quantity of each item\n",
        "quantity_per_item = chipotle.groupby('item_name')['quantity'].sum()\n",
        "print(quantity_per_item)"
      ],
      "metadata": {
        "colab": {
          "base_uri": "https://localhost:8080/"
        },
        "id": "D8sP2ed4-gA5",
        "outputId": "d9aee14c-8b31-467c-ae73-06a30ddcb878"
      },
      "execution_count": 55,
      "outputs": [
        {
          "output_type": "stream",
          "name": "stdout",
          "text": [
            "item_name\n",
            "6 Pack Soft Drink                         11\n",
            "Barbacoa Bowl                             41\n",
            "Barbacoa Burrito                          51\n",
            "Barbacoa Crispy Tacos                      3\n",
            "Barbacoa Salad Bowl                        3\n",
            "Barbacoa Soft Tacos                       11\n",
            "Bottled Water                             33\n",
            "Bowl                                       4\n",
            "Burrito                                    3\n",
            "Canned Soda                               15\n",
            "Canned Soft Drink                         48\n",
            "Carnitas Bowl                             38\n",
            "Carnitas Burrito                          36\n",
            "Carnitas Crispy Tacos                      2\n",
            "Carnitas Salad Bowl                        2\n",
            "Carnitas Soft Tacos                       13\n",
            "Chicken Bowl                             501\n",
            "Chicken Burrito                          369\n",
            "Chicken Crispy Tacos                      12\n",
            "Chicken Salad Bowl                        78\n",
            "Chicken Soft Tacos                        42\n",
            "Chips                                     22\n",
            "Chips And Fresh Tomato Salsa              19\n",
            "Chips And Guacamole                       87\n",
            "Chips And Roasted Chili Corn Salsa         2\n",
            "Chips And Tomatillo Green Chili Salsa     10\n",
            "Chips And Tomatillo Red Chili Salsa        2\n",
            "Izze                                       1\n",
            "Nantucket Nectar                           6\n",
            "Salad                                      1\n",
            "Steak Bowl                               117\n",
            "Steak Burrito                            246\n",
            "Steak Crispy Tacos                        15\n",
            "Steak Salad                                2\n",
            "Steak Salad Bowl                          16\n",
            "Steak Soft Tacos                          25\n",
            "Veggie Bowl                               40\n",
            "Veggie Burrito                            54\n",
            "Veggie Salad Bowl                         11\n",
            "Veggie Soft Tacos                          1\n",
            "Name: quantity, dtype: int64\n"
          ]
        }
      ]
    },
    {
      "cell_type": "code",
      "source": [
        " chipotle['choice_description_str'] = chipotle['choice_description'].astype(str)"
      ],
      "metadata": {
        "id": "YEDO50rV_gmO"
      },
      "execution_count": 60,
      "outputs": []
    },
    {
      "cell_type": "code",
      "source": [
        "#Total Number of Items Ordered\n",
        "\n",
        "total_items_ordered = chipotle['quantity'].sum()\n",
        "print(total_items_ordered)"
      ],
      "metadata": {
        "colab": {
          "base_uri": "https://localhost:8080/"
        },
        "id": "QnxqEiyUAald",
        "outputId": "757d2519-9cd3-474e-baf3-ec57cc452dcc"
      },
      "execution_count": 63,
      "outputs": [
        {
          "output_type": "stream",
          "name": "stdout",
          "text": [
            "1993\n"
          ]
        }
      ]
    },
    {
      "cell_type": "code",
      "source": [
        "#Revenue for the Period\n",
        "total_revenue = chipotle['item_price'].sum()\n",
        "print(total_revenue)"
      ],
      "metadata": {
        "colab": {
          "base_uri": "https://localhost:8080/"
        },
        "id": "DcKMOI4EAnx-",
        "outputId": "bed596cd-9ec8-45d3-ff53-2240bd1b5c71"
      },
      "execution_count": 65,
      "outputs": [
        {
          "output_type": "stream",
          "name": "stdout",
          "text": [
            "17678.050000000003\n"
          ]
        }
      ]
    },
    {
      "cell_type": "code",
      "source": [
        "#Number of Orders Made\n",
        "number_of_orders = chipotle['order_id'].nunique()\n",
        " #Average Revenue per Order\n",
        "revenue_per_order = chipotle.groupby('order_id')['item_price'].sum().mean()\n",
        " #Different Items Sold\n",
        "different_items_sold = chipotle['item_name'].nunique()\n",
        "print(number_of_orders)\n",
        "print(revenue_per_order)\n",
        "print(different_items_sold)"
      ],
      "metadata": {
        "colab": {
          "base_uri": "https://localhost:8080/"
        },
        "id": "9aOPhhuyA6Cc",
        "outputId": "de5c84df-512b-4d6b-f423-5f87dff863e2"
      },
      "execution_count": 67,
      "outputs": [
        {
          "output_type": "stream",
          "name": "stdout",
          "text": [
            "1834\n",
            "9.639067611777538\n",
            "40\n"
          ]
        }
      ]
    }
  ]
}