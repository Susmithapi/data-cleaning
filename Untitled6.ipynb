{
  "nbformat": 4,
  "nbformat_minor": 0,
  "metadata": {
    "colab": {
      "provenance": [],
      "authorship_tag": "ABX9TyM86aNhKwIE9FiQ9+HJgMNG",
      "include_colab_link": true
    },
    "kernelspec": {
      "name": "python3",
      "display_name": "Python 3"
    },
    "language_info": {
      "name": "python"
    }
  },
  "cells": [
    {
      "cell_type": "markdown",
      "metadata": {
        "id": "view-in-github",
        "colab_type": "text"
      },
      "source": [
        "<a href=\"https://colab.research.google.com/github/Susmithapi/data-cleaning/blob/main/Untitled6.ipynb\" target=\"_parent\"><img src=\"https://colab.research.google.com/assets/colab-badge.svg\" alt=\"Open In Colab\"/></a>"
      ]
    },
    {
      "cell_type": "code",
      "execution_count": null,
      "metadata": {
        "id": "4A5lxQpAbXGY"
      },
      "outputs": [],
      "source": [
        "import pandas as pd"
      ]
    },
    {
      "cell_type": "code",
      "source": [
        "data_set = pd.read_csv(\"/content/data_set.csv\")"
      ],
      "metadata": {
        "id": "byUsN7qXcbf0"
      },
      "execution_count": null,
      "outputs": []
    },
    {
      "cell_type": "code",
      "source": [
        "print(data_set)"
      ],
      "metadata": {
        "colab": {
          "base_uri": "https://localhost:8080/"
        },
        "id": "LaZyThMbdYRp",
        "outputId": "7feedce9-a328-4e20-cc4a-a30e072df862"
      },
      "execution_count": null,
      "outputs": [
        {
          "output_type": "stream",
          "name": "stdout",
          "text": [
            "    Index   Age      Salary  Rating       Location  Established Easy Apply\n",
            "0       0  44.0   $44k-$99k     5.4       India,In         1999       TRUE\n",
            "1       1  66.0   $55k-$66k     3.5    New York,Ny         2002       TRUE\n",
            "2       2   NaN   $77k-$89k    -1.0    New York,Ny           -1         -1\n",
            "3       3  64.0   $44k-$99k     4.4       India In         1988         -1\n",
            "4       4  25.0   $44k-$99k     6.4  Australia Aus         2002         -1\n",
            "5       5  44.0   $77k-$89k     1.4       India,In         1999       TRUE\n",
            "6       6  21.0   $44k-$99k     0.0    New York,Ny           -1         -1\n",
            "7       7  44.0   $44k-$99k    -1.0  Australia Aus           -1         -1\n",
            "8       8  35.0   $44k-$99k     5.4    New York,Ny           -1         -1\n",
            "9       9  22.0   $44k-$99k     7.7       India,In           -1       TRUE\n",
            "10     10  55.0   $10k-$49k     5.4       India,In         2008       TRUE\n",
            "11     11  44.0   $10k-$49k     6.7       India,In         2009         -1\n",
            "12     12   NaN   $44k-$99k     0.0       India,In         1999         -1\n",
            "13     13  25.0   $44k-$99k    -1.0  Australia Aus         2019       TRUE\n",
            "14     14  66.0   $44k-$99k     4.0  Australia Aus         2020       TRUE\n",
            "15     15  44.0  $88k-$101k     3.0  Australia Aus         1999         -1\n",
            "16     16  19.0   $19k-$40k     4.5       India,In         1984         -1\n",
            "17     17   NaN   $44k-$99k     5.3    New York,Ny         1943       TRUE\n",
            "18     18  35.0   $44k-$99k     6.7    New York,Ny         1954       TRUE\n",
            "19     19  32.0   $44k-$99k     3.3    New York,Ny         1955       TRUE\n",
            "20     20   NaN   $44k-$99k     5.7    New York,Ny         1944       TRUE\n",
            "21     21  35.0   $44k-$99k     5.0    New York,Ny         1946         -1\n",
            "22     22  19.0   $55k-$66k     7.8    New York,Ny         1988       TRUE\n",
            "23     23   NaN   $44k-$99k     2.4    New York,Ny         1999       TRUE\n",
            "24     24  13.0   $44k-$99k    -1.0    New York,Ny         1987         -1\n",
            "25     25  55.0   $44k-$99k     0.0  Australia Aus         1980       TRUE\n",
            "26     26   NaN   $55k-$66k     NaN       India,In         1934       TRUE\n",
            "27     27  52.0   $44k-$99k     5.4       India,In         1935         -1\n",
            "28     28   NaN   $39k-$88k     3.4  Australia Aus         1932         -1\n"
          ]
        }
      ]
    },
    {
      "cell_type": "code",
      "source": [
        "data_set.isna().sum()"
      ],
      "metadata": {
        "colab": {
          "base_uri": "https://localhost:8080/"
        },
        "id": "mebVmRkRdQoq",
        "outputId": "9156cc8b-4647-4b77-97cd-df65ac4617f0"
      },
      "execution_count": null,
      "outputs": [
        {
          "output_type": "execute_result",
          "data": {
            "text/plain": [
              "Index          0\n",
              "Age            7\n",
              "Salary         0\n",
              "Rating         1\n",
              "Location       0\n",
              "Established    0\n",
              "Easy Apply     0\n",
              "dtype: int64"
            ]
          },
          "metadata": {},
          "execution_count": 5
        }
      ]
    },
    {
      "cell_type": "code",
      "source": [
        "dataset = data_set.copy()\n",
        "print(dataset)"
      ],
      "metadata": {
        "colab": {
          "base_uri": "https://localhost:8080/"
        },
        "id": "RLSOKU90gbJx",
        "outputId": "7449b911-05e1-4a34-ff3d-ca267d5f8792"
      },
      "execution_count": null,
      "outputs": [
        {
          "output_type": "stream",
          "name": "stdout",
          "text": [
            "    Index   Age      Salary  Rating       Location  Established Easy Apply\n",
            "0       0  44.0   $44k-$99k     5.4       India,In         1999       TRUE\n",
            "1       1  66.0   $55k-$66k     3.5    New York,Ny         2002       TRUE\n",
            "2       2   NaN   $77k-$89k    -1.0    New York,Ny           -1         -1\n",
            "3       3  64.0   $44k-$99k     4.4       India In         1988         -1\n",
            "4       4  25.0   $44k-$99k     6.4  Australia Aus         2002         -1\n",
            "5       5  44.0   $77k-$89k     1.4       India,In         1999       TRUE\n",
            "6       6  21.0   $44k-$99k     0.0    New York,Ny           -1         -1\n",
            "7       7  44.0   $44k-$99k    -1.0  Australia Aus           -1         -1\n",
            "8       8  35.0   $44k-$99k     5.4    New York,Ny           -1         -1\n",
            "9       9  22.0   $44k-$99k     7.7       India,In           -1       TRUE\n",
            "10     10  55.0   $10k-$49k     5.4       India,In         2008       TRUE\n",
            "11     11  44.0   $10k-$49k     6.7       India,In         2009         -1\n",
            "12     12   NaN   $44k-$99k     0.0       India,In         1999         -1\n",
            "13     13  25.0   $44k-$99k    -1.0  Australia Aus         2019       TRUE\n",
            "14     14  66.0   $44k-$99k     4.0  Australia Aus         2020       TRUE\n",
            "15     15  44.0  $88k-$101k     3.0  Australia Aus         1999         -1\n",
            "16     16  19.0   $19k-$40k     4.5       India,In         1984         -1\n",
            "17     17   NaN   $44k-$99k     5.3    New York,Ny         1943       TRUE\n",
            "18     18  35.0   $44k-$99k     6.7    New York,Ny         1954       TRUE\n",
            "19     19  32.0   $44k-$99k     3.3    New York,Ny         1955       TRUE\n",
            "20     20   NaN   $44k-$99k     5.7    New York,Ny         1944       TRUE\n",
            "21     21  35.0   $44k-$99k     5.0    New York,Ny         1946         -1\n",
            "22     22  19.0   $55k-$66k     7.8    New York,Ny         1988       TRUE\n",
            "23     23   NaN   $44k-$99k     2.4    New York,Ny         1999       TRUE\n",
            "24     24  13.0   $44k-$99k    -1.0    New York,Ny         1987         -1\n",
            "25     25  55.0   $44k-$99k     0.0  Australia Aus         1980       TRUE\n",
            "26     26   NaN   $55k-$66k     NaN       India,In         1934       TRUE\n",
            "27     27  52.0   $44k-$99k     5.4       India,In         1935         -1\n",
            "28     28   NaN   $39k-$88k     3.4  Australia Aus         1932         -1\n"
          ]
        }
      ]
    },
    {
      "cell_type": "code",
      "source": [
        "dataset.isna().sum()"
      ],
      "metadata": {
        "colab": {
          "base_uri": "https://localhost:8080/"
        },
        "outputId": "6c3ded45-2111-416e-b361-963a1129dd8f",
        "id": "1wK_g0fDk-7O"
      },
      "execution_count": null,
      "outputs": [
        {
          "output_type": "execute_result",
          "data": {
            "text/plain": [
              "Index          0\n",
              "Age            7\n",
              "Salary         0\n",
              "Rating         1\n",
              "Location       0\n",
              "Established    0\n",
              "Easy Apply     0\n",
              "dtype: int64"
            ]
          },
          "metadata": {},
          "execution_count": 7
        }
      ]
    },
    {
      "cell_type": "code",
      "source": [
        "dataset_age = data_set.Age.mean()\n",
        "print(dataset_age)"
      ],
      "metadata": {
        "colab": {
          "base_uri": "https://localhost:8080/"
        },
        "id": "zahQcgSql2UE",
        "outputId": "92c0814f-ab08-437d-db09-7af931133b1d"
      },
      "execution_count": null,
      "outputs": [
        {
          "output_type": "stream",
          "name": "stdout",
          "text": [
            "39.04545454545455\n"
          ]
        }
      ]
    },
    {
      "cell_type": "code",
      "source": [
        "dataset['Age'] = dataset['Age'].fillna(dataset_age)\n",
        "dataset['Age'] = dataset['Age'].round(decimals=1)\n",
        "print(dataset)"
      ],
      "metadata": {
        "colab": {
          "base_uri": "https://localhost:8080/"
        },
        "id": "Pbyh-O9-EfsP",
        "outputId": "4daffdd0-188b-4cb0-c3d1-9e49379023d4"
      },
      "execution_count": null,
      "outputs": [
        {
          "output_type": "stream",
          "name": "stdout",
          "text": [
            "    Index   Age      Salary  Rating       Location  Established Easy Apply\n",
            "0       0  44.0   $44k-$99k     5.4       India,In         1999       TRUE\n",
            "1       1  66.0   $55k-$66k     3.5    New York,Ny         2002       TRUE\n",
            "2       2  39.0   $77k-$89k    -1.0    New York,Ny           -1         -1\n",
            "3       3  64.0   $44k-$99k     4.4       India In         1988         -1\n",
            "4       4  25.0   $44k-$99k     6.4  Australia Aus         2002         -1\n",
            "5       5  44.0   $77k-$89k     1.4       India,In         1999       TRUE\n",
            "6       6  21.0   $44k-$99k     0.0    New York,Ny           -1         -1\n",
            "7       7  44.0   $44k-$99k    -1.0  Australia Aus           -1         -1\n",
            "8       8  35.0   $44k-$99k     5.4    New York,Ny           -1         -1\n",
            "9       9  22.0   $44k-$99k     7.7       India,In           -1       TRUE\n",
            "10     10  55.0   $10k-$49k     5.4       India,In         2008       TRUE\n",
            "11     11  44.0   $10k-$49k     6.7       India,In         2009         -1\n",
            "12     12  39.0   $44k-$99k     0.0       India,In         1999         -1\n",
            "13     13  25.0   $44k-$99k    -1.0  Australia Aus         2019       TRUE\n",
            "14     14  66.0   $44k-$99k     4.0  Australia Aus         2020       TRUE\n",
            "15     15  44.0  $88k-$101k     3.0  Australia Aus         1999         -1\n",
            "16     16  19.0   $19k-$40k     4.5       India,In         1984         -1\n",
            "17     17  39.0   $44k-$99k     5.3    New York,Ny         1943       TRUE\n",
            "18     18  35.0   $44k-$99k     6.7    New York,Ny         1954       TRUE\n",
            "19     19  32.0   $44k-$99k     3.3    New York,Ny         1955       TRUE\n",
            "20     20  39.0   $44k-$99k     5.7    New York,Ny         1944       TRUE\n",
            "21     21  35.0   $44k-$99k     5.0    New York,Ny         1946         -1\n",
            "22     22  19.0   $55k-$66k     7.8    New York,Ny         1988       TRUE\n",
            "23     23  39.0   $44k-$99k     2.4    New York,Ny         1999       TRUE\n",
            "24     24  13.0   $44k-$99k    -1.0    New York,Ny         1987         -1\n",
            "25     25  55.0   $44k-$99k     0.0  Australia Aus         1980       TRUE\n",
            "26     26  39.0   $55k-$66k     NaN       India,In         1934       TRUE\n",
            "27     27  52.0   $44k-$99k     5.4       India,In         1935         -1\n",
            "28     28  39.0   $39k-$88k     3.4  Australia Aus         1932         -1\n"
          ]
        }
      ]
    },
    {
      "cell_type": "code",
      "source": [
        "dataset_rating = dataset.Rating.mean()\n",
        "print(dataset_rating)"
      ],
      "metadata": {
        "colab": {
          "base_uri": "https://localhost:8080/"
        },
        "id": "p-Ty7LXhGmZc",
        "outputId": "80031687-2e46-4380-f467-e4201ccc4b64"
      },
      "execution_count": null,
      "outputs": [
        {
          "output_type": "stream",
          "name": "stdout",
          "text": [
            "3.528571428571429\n"
          ]
        }
      ]
    },
    {
      "cell_type": "code",
      "source": [
        "dataset['Rating'] = dataset['Rating'].fillna(dataset_rating)\n",
        "dataset['Rating'] = dataset['Rating'].round(decimals = 1)\n",
        "print(dataset)"
      ],
      "metadata": {
        "colab": {
          "base_uri": "https://localhost:8080/"
        },
        "outputId": "2dd7a84c-f63e-442e-870a-082d84bcdde4",
        "id": "QeydTefyf173"
      },
      "execution_count": null,
      "outputs": [
        {
          "output_type": "stream",
          "name": "stdout",
          "text": [
            "    Index   Age      Salary  Rating       Location  Established Easy Apply\n",
            "0       0  44.0   $44k-$99k     5.4       India,In         1999       TRUE\n",
            "1       1  66.0   $55k-$66k     3.5    New York,Ny         2002       TRUE\n",
            "2       2  39.0   $77k-$89k    -1.0    New York,Ny           -1         -1\n",
            "3       3  64.0   $44k-$99k     4.4       India In         1988         -1\n",
            "4       4  25.0   $44k-$99k     6.4  Australia Aus         2002         -1\n",
            "5       5  44.0   $77k-$89k     1.4       India,In         1999       TRUE\n",
            "6       6  21.0   $44k-$99k     0.0    New York,Ny           -1         -1\n",
            "7       7  44.0   $44k-$99k    -1.0  Australia Aus           -1         -1\n",
            "8       8  35.0   $44k-$99k     5.4    New York,Ny           -1         -1\n",
            "9       9  22.0   $44k-$99k     7.7       India,In           -1       TRUE\n",
            "10     10  55.0   $10k-$49k     5.4       India,In         2008       TRUE\n",
            "11     11  44.0   $10k-$49k     6.7       India,In         2009         -1\n",
            "12     12  39.0   $44k-$99k     0.0       India,In         1999         -1\n",
            "13     13  25.0   $44k-$99k    -1.0  Australia Aus         2019       TRUE\n",
            "14     14  66.0   $44k-$99k     4.0  Australia Aus         2020       TRUE\n",
            "15     15  44.0  $88k-$101k     3.0  Australia Aus         1999         -1\n",
            "16     16  19.0   $19k-$40k     4.5       India,In         1984         -1\n",
            "17     17  39.0   $44k-$99k     5.3    New York,Ny         1943       TRUE\n",
            "18     18  35.0   $44k-$99k     6.7    New York,Ny         1954       TRUE\n",
            "19     19  32.0   $44k-$99k     3.3    New York,Ny         1955       TRUE\n",
            "20     20  39.0   $44k-$99k     5.7    New York,Ny         1944       TRUE\n",
            "21     21  35.0   $44k-$99k     5.0    New York,Ny         1946         -1\n",
            "22     22  19.0   $55k-$66k     7.8    New York,Ny         1988       TRUE\n",
            "23     23  39.0   $44k-$99k     2.4    New York,Ny         1999       TRUE\n",
            "24     24  13.0   $44k-$99k    -1.0    New York,Ny         1987         -1\n",
            "25     25  55.0   $44k-$99k     0.0  Australia Aus         1980       TRUE\n",
            "26     26  39.0   $55k-$66k     3.5       India,In         1934       TRUE\n",
            "27     27  52.0   $44k-$99k     5.4       India,In         1935         -1\n",
            "28     28  39.0   $39k-$88k     3.4  Australia Aus         1932         -1\n"
          ]
        }
      ]
    },
    {
      "cell_type": "code",
      "source": [
        "dataset['Easy Apply'] = dataset ['Easy Apply'].replace({'TRUE' :True , '-1':False})\n",
        "\n"
      ],
      "metadata": {
        "id": "9nR0gwbiiH0J"
      },
      "execution_count": null,
      "outputs": []
    },
    {
      "cell_type": "code",
      "source": [
        "print(dataset['Easy Apply'])"
      ],
      "metadata": {
        "colab": {
          "base_uri": "https://localhost:8080/"
        },
        "id": "-J9xrU9alnBu",
        "outputId": "ea1ea7ce-e50b-4b87-d49c-8505db31f20e"
      },
      "execution_count": null,
      "outputs": [
        {
          "output_type": "stream",
          "name": "stdout",
          "text": [
            "0      True\n",
            "1      True\n",
            "2     False\n",
            "3     False\n",
            "4     False\n",
            "5      True\n",
            "6     False\n",
            "7     False\n",
            "8     False\n",
            "9      True\n",
            "10     True\n",
            "11    False\n",
            "12    False\n",
            "13     True\n",
            "14     True\n",
            "15    False\n",
            "16    False\n",
            "17     True\n",
            "18     True\n",
            "19     True\n",
            "20     True\n",
            "21    False\n",
            "22     True\n",
            "23     True\n",
            "24    False\n",
            "25     True\n",
            "26     True\n",
            "27    False\n",
            "28    False\n",
            "Name: Easy Apply, dtype: bool\n"
          ]
        }
      ]
    },
    {
      "cell_type": "code",
      "source": [
        "print (dataset)"
      ],
      "metadata": {
        "colab": {
          "base_uri": "https://localhost:8080/"
        },
        "id": "HPH2y67HlwJa",
        "outputId": "01dc58c6-62c5-4f48-e5a7-39e596be687e"
      },
      "execution_count": null,
      "outputs": [
        {
          "output_type": "stream",
          "name": "stdout",
          "text": [
            "    Index   Age      Salary  Rating       Location  Established  Easy Apply\n",
            "0       0  44.0   $44k-$99k     5.4       India,In         1999        True\n",
            "1       1  66.0   $55k-$66k     3.5    New York,Ny         2002        True\n",
            "2       2  39.0   $77k-$89k    -1.0    New York,Ny           -1       False\n",
            "3       3  64.0   $44k-$99k     4.4       India In         1988       False\n",
            "4       4  25.0   $44k-$99k     6.4  Australia Aus         2002       False\n",
            "5       5  44.0   $77k-$89k     1.4       India,In         1999        True\n",
            "6       6  21.0   $44k-$99k     0.0    New York,Ny           -1       False\n",
            "7       7  44.0   $44k-$99k    -1.0  Australia Aus           -1       False\n",
            "8       8  35.0   $44k-$99k     5.4    New York,Ny           -1       False\n",
            "9       9  22.0   $44k-$99k     7.7       India,In           -1        True\n",
            "10     10  55.0   $10k-$49k     5.4       India,In         2008        True\n",
            "11     11  44.0   $10k-$49k     6.7       India,In         2009       False\n",
            "12     12  39.0   $44k-$99k     0.0       India,In         1999       False\n",
            "13     13  25.0   $44k-$99k    -1.0  Australia Aus         2019        True\n",
            "14     14  66.0   $44k-$99k     4.0  Australia Aus         2020        True\n",
            "15     15  44.0  $88k-$101k     3.0  Australia Aus         1999       False\n",
            "16     16  19.0   $19k-$40k     4.5       India,In         1984       False\n",
            "17     17  39.0   $44k-$99k     5.3    New York,Ny         1943        True\n",
            "18     18  35.0   $44k-$99k     6.7    New York,Ny         1954        True\n",
            "19     19  32.0   $44k-$99k     3.3    New York,Ny         1955        True\n",
            "20     20  39.0   $44k-$99k     5.7    New York,Ny         1944        True\n",
            "21     21  35.0   $44k-$99k     5.0    New York,Ny         1946       False\n",
            "22     22  19.0   $55k-$66k     7.8    New York,Ny         1988        True\n",
            "23     23  39.0   $44k-$99k     2.4    New York,Ny         1999        True\n",
            "24     24  13.0   $44k-$99k    -1.0    New York,Ny         1987       False\n",
            "25     25  55.0   $44k-$99k     0.0  Australia Aus         1980        True\n",
            "26     26  39.0   $55k-$66k     3.5       India,In         1934        True\n",
            "27     27  52.0   $44k-$99k     5.4       India,In         1935       False\n",
            "28     28  39.0   $39k-$88k     3.4  Australia Aus         1932       False\n"
          ]
        }
      ]
    },
    {
      "cell_type": "code",
      "source": [
        "dataset.describe()"
      ],
      "metadata": {
        "colab": {
          "base_uri": "https://localhost:8080/",
          "height": 300
        },
        "id": "gOIV13eWl-rw",
        "outputId": "1670915b-2fdf-4b46-9016-24873e8307f9"
      },
      "execution_count": null,
      "outputs": [
        {
          "output_type": "execute_result",
          "data": {
            "text/plain": [
              "           Index        Age     Rating  Established\n",
              "count  29.000000  29.000000  29.000000    29.000000\n",
              "mean   14.000000  39.034483   3.527586  1638.620690\n",
              "std     8.514693  13.973145   2.774230   762.079599\n",
              "min     0.000000  13.000000  -1.000000    -1.000000\n",
              "25%     7.000000  32.000000   1.400000  1935.000000\n",
              "50%    14.000000  39.000000   4.000000  1984.000000\n",
              "75%    21.000000  44.000000   5.400000  1999.000000\n",
              "max    28.000000  66.000000   7.800000  2020.000000"
            ],
            "text/html": [
              "\n",
              "  <div id=\"df-cf82e4a2-0e09-4b8f-835c-11958575eb71\" class=\"colab-df-container\">\n",
              "    <div>\n",
              "<style scoped>\n",
              "    .dataframe tbody tr th:only-of-type {\n",
              "        vertical-align: middle;\n",
              "    }\n",
              "\n",
              "    .dataframe tbody tr th {\n",
              "        vertical-align: top;\n",
              "    }\n",
              "\n",
              "    .dataframe thead th {\n",
              "        text-align: right;\n",
              "    }\n",
              "</style>\n",
              "<table border=\"1\" class=\"dataframe\">\n",
              "  <thead>\n",
              "    <tr style=\"text-align: right;\">\n",
              "      <th></th>\n",
              "      <th>Index</th>\n",
              "      <th>Age</th>\n",
              "      <th>Rating</th>\n",
              "      <th>Established</th>\n",
              "    </tr>\n",
              "  </thead>\n",
              "  <tbody>\n",
              "    <tr>\n",
              "      <th>count</th>\n",
              "      <td>29.000000</td>\n",
              "      <td>29.000000</td>\n",
              "      <td>29.000000</td>\n",
              "      <td>29.000000</td>\n",
              "    </tr>\n",
              "    <tr>\n",
              "      <th>mean</th>\n",
              "      <td>14.000000</td>\n",
              "      <td>39.034483</td>\n",
              "      <td>3.527586</td>\n",
              "      <td>1638.620690</td>\n",
              "    </tr>\n",
              "    <tr>\n",
              "      <th>std</th>\n",
              "      <td>8.514693</td>\n",
              "      <td>13.973145</td>\n",
              "      <td>2.774230</td>\n",
              "      <td>762.079599</td>\n",
              "    </tr>\n",
              "    <tr>\n",
              "      <th>min</th>\n",
              "      <td>0.000000</td>\n",
              "      <td>13.000000</td>\n",
              "      <td>-1.000000</td>\n",
              "      <td>-1.000000</td>\n",
              "    </tr>\n",
              "    <tr>\n",
              "      <th>25%</th>\n",
              "      <td>7.000000</td>\n",
              "      <td>32.000000</td>\n",
              "      <td>1.400000</td>\n",
              "      <td>1935.000000</td>\n",
              "    </tr>\n",
              "    <tr>\n",
              "      <th>50%</th>\n",
              "      <td>14.000000</td>\n",
              "      <td>39.000000</td>\n",
              "      <td>4.000000</td>\n",
              "      <td>1984.000000</td>\n",
              "    </tr>\n",
              "    <tr>\n",
              "      <th>75%</th>\n",
              "      <td>21.000000</td>\n",
              "      <td>44.000000</td>\n",
              "      <td>5.400000</td>\n",
              "      <td>1999.000000</td>\n",
              "    </tr>\n",
              "    <tr>\n",
              "      <th>max</th>\n",
              "      <td>28.000000</td>\n",
              "      <td>66.000000</td>\n",
              "      <td>7.800000</td>\n",
              "      <td>2020.000000</td>\n",
              "    </tr>\n",
              "  </tbody>\n",
              "</table>\n",
              "</div>\n",
              "    <div class=\"colab-df-buttons\">\n",
              "\n",
              "  <div class=\"colab-df-container\">\n",
              "    <button class=\"colab-df-convert\" onclick=\"convertToInteractive('df-cf82e4a2-0e09-4b8f-835c-11958575eb71')\"\n",
              "            title=\"Convert this dataframe to an interactive table.\"\n",
              "            style=\"display:none;\">\n",
              "\n",
              "  <svg xmlns=\"http://www.w3.org/2000/svg\" height=\"24px\" viewBox=\"0 -960 960 960\">\n",
              "    <path d=\"M120-120v-720h720v720H120Zm60-500h600v-160H180v160Zm220 220h160v-160H400v160Zm0 220h160v-160H400v160ZM180-400h160v-160H180v160Zm440 0h160v-160H620v160ZM180-180h160v-160H180v160Zm440 0h160v-160H620v160Z\"/>\n",
              "  </svg>\n",
              "    </button>\n",
              "\n",
              "  <style>\n",
              "    .colab-df-container {\n",
              "      display:flex;\n",
              "      gap: 12px;\n",
              "    }\n",
              "\n",
              "    .colab-df-convert {\n",
              "      background-color: #E8F0FE;\n",
              "      border: none;\n",
              "      border-radius: 50%;\n",
              "      cursor: pointer;\n",
              "      display: none;\n",
              "      fill: #1967D2;\n",
              "      height: 32px;\n",
              "      padding: 0 0 0 0;\n",
              "      width: 32px;\n",
              "    }\n",
              "\n",
              "    .colab-df-convert:hover {\n",
              "      background-color: #E2EBFA;\n",
              "      box-shadow: 0px 1px 2px rgba(60, 64, 67, 0.3), 0px 1px 3px 1px rgba(60, 64, 67, 0.15);\n",
              "      fill: #174EA6;\n",
              "    }\n",
              "\n",
              "    .colab-df-buttons div {\n",
              "      margin-bottom: 4px;\n",
              "    }\n",
              "\n",
              "    [theme=dark] .colab-df-convert {\n",
              "      background-color: #3B4455;\n",
              "      fill: #D2E3FC;\n",
              "    }\n",
              "\n",
              "    [theme=dark] .colab-df-convert:hover {\n",
              "      background-color: #434B5C;\n",
              "      box-shadow: 0px 1px 3px 1px rgba(0, 0, 0, 0.15);\n",
              "      filter: drop-shadow(0px 1px 2px rgba(0, 0, 0, 0.3));\n",
              "      fill: #FFFFFF;\n",
              "    }\n",
              "  </style>\n",
              "\n",
              "    <script>\n",
              "      const buttonEl =\n",
              "        document.querySelector('#df-cf82e4a2-0e09-4b8f-835c-11958575eb71 button.colab-df-convert');\n",
              "      buttonEl.style.display =\n",
              "        google.colab.kernel.accessAllowed ? 'block' : 'none';\n",
              "\n",
              "      async function convertToInteractive(key) {\n",
              "        const element = document.querySelector('#df-cf82e4a2-0e09-4b8f-835c-11958575eb71');\n",
              "        const dataTable =\n",
              "          await google.colab.kernel.invokeFunction('convertToInteractive',\n",
              "                                                    [key], {});\n",
              "        if (!dataTable) return;\n",
              "\n",
              "        const docLinkHtml = 'Like what you see? Visit the ' +\n",
              "          '<a target=\"_blank\" href=https://colab.research.google.com/notebooks/data_table.ipynb>data table notebook</a>'\n",
              "          + ' to learn more about interactive tables.';\n",
              "        element.innerHTML = '';\n",
              "        dataTable['output_type'] = 'display_data';\n",
              "        await google.colab.output.renderOutput(dataTable, element);\n",
              "        const docLink = document.createElement('div');\n",
              "        docLink.innerHTML = docLinkHtml;\n",
              "        element.appendChild(docLink);\n",
              "      }\n",
              "    </script>\n",
              "  </div>\n",
              "\n",
              "\n",
              "<div id=\"df-705194a0-4ecf-47ef-956a-6c6f1211bcd3\">\n",
              "  <button class=\"colab-df-quickchart\" onclick=\"quickchart('df-705194a0-4ecf-47ef-956a-6c6f1211bcd3')\"\n",
              "            title=\"Suggest charts\"\n",
              "            style=\"display:none;\">\n",
              "\n",
              "<svg xmlns=\"http://www.w3.org/2000/svg\" height=\"24px\"viewBox=\"0 0 24 24\"\n",
              "     width=\"24px\">\n",
              "    <g>\n",
              "        <path d=\"M19 3H5c-1.1 0-2 .9-2 2v14c0 1.1.9 2 2 2h14c1.1 0 2-.9 2-2V5c0-1.1-.9-2-2-2zM9 17H7v-7h2v7zm4 0h-2V7h2v10zm4 0h-2v-4h2v4z\"/>\n",
              "    </g>\n",
              "</svg>\n",
              "  </button>\n",
              "\n",
              "<style>\n",
              "  .colab-df-quickchart {\n",
              "      --bg-color: #E8F0FE;\n",
              "      --fill-color: #1967D2;\n",
              "      --hover-bg-color: #E2EBFA;\n",
              "      --hover-fill-color: #174EA6;\n",
              "      --disabled-fill-color: #AAA;\n",
              "      --disabled-bg-color: #DDD;\n",
              "  }\n",
              "\n",
              "  [theme=dark] .colab-df-quickchart {\n",
              "      --bg-color: #3B4455;\n",
              "      --fill-color: #D2E3FC;\n",
              "      --hover-bg-color: #434B5C;\n",
              "      --hover-fill-color: #FFFFFF;\n",
              "      --disabled-bg-color: #3B4455;\n",
              "      --disabled-fill-color: #666;\n",
              "  }\n",
              "\n",
              "  .colab-df-quickchart {\n",
              "    background-color: var(--bg-color);\n",
              "    border: none;\n",
              "    border-radius: 50%;\n",
              "    cursor: pointer;\n",
              "    display: none;\n",
              "    fill: var(--fill-color);\n",
              "    height: 32px;\n",
              "    padding: 0;\n",
              "    width: 32px;\n",
              "  }\n",
              "\n",
              "  .colab-df-quickchart:hover {\n",
              "    background-color: var(--hover-bg-color);\n",
              "    box-shadow: 0 1px 2px rgba(60, 64, 67, 0.3), 0 1px 3px 1px rgba(60, 64, 67, 0.15);\n",
              "    fill: var(--button-hover-fill-color);\n",
              "  }\n",
              "\n",
              "  .colab-df-quickchart-complete:disabled,\n",
              "  .colab-df-quickchart-complete:disabled:hover {\n",
              "    background-color: var(--disabled-bg-color);\n",
              "    fill: var(--disabled-fill-color);\n",
              "    box-shadow: none;\n",
              "  }\n",
              "\n",
              "  .colab-df-spinner {\n",
              "    border: 2px solid var(--fill-color);\n",
              "    border-color: transparent;\n",
              "    border-bottom-color: var(--fill-color);\n",
              "    animation:\n",
              "      spin 1s steps(1) infinite;\n",
              "  }\n",
              "\n",
              "  @keyframes spin {\n",
              "    0% {\n",
              "      border-color: transparent;\n",
              "      border-bottom-color: var(--fill-color);\n",
              "      border-left-color: var(--fill-color);\n",
              "    }\n",
              "    20% {\n",
              "      border-color: transparent;\n",
              "      border-left-color: var(--fill-color);\n",
              "      border-top-color: var(--fill-color);\n",
              "    }\n",
              "    30% {\n",
              "      border-color: transparent;\n",
              "      border-left-color: var(--fill-color);\n",
              "      border-top-color: var(--fill-color);\n",
              "      border-right-color: var(--fill-color);\n",
              "    }\n",
              "    40% {\n",
              "      border-color: transparent;\n",
              "      border-right-color: var(--fill-color);\n",
              "      border-top-color: var(--fill-color);\n",
              "    }\n",
              "    60% {\n",
              "      border-color: transparent;\n",
              "      border-right-color: var(--fill-color);\n",
              "    }\n",
              "    80% {\n",
              "      border-color: transparent;\n",
              "      border-right-color: var(--fill-color);\n",
              "      border-bottom-color: var(--fill-color);\n",
              "    }\n",
              "    90% {\n",
              "      border-color: transparent;\n",
              "      border-bottom-color: var(--fill-color);\n",
              "    }\n",
              "  }\n",
              "</style>\n",
              "\n",
              "  <script>\n",
              "    async function quickchart(key) {\n",
              "      const quickchartButtonEl =\n",
              "        document.querySelector('#' + key + ' button');\n",
              "      quickchartButtonEl.disabled = true;  // To prevent multiple clicks.\n",
              "      quickchartButtonEl.classList.add('colab-df-spinner');\n",
              "      try {\n",
              "        const charts = await google.colab.kernel.invokeFunction(\n",
              "            'suggestCharts', [key], {});\n",
              "      } catch (error) {\n",
              "        console.error('Error during call to suggestCharts:', error);\n",
              "      }\n",
              "      quickchartButtonEl.classList.remove('colab-df-spinner');\n",
              "      quickchartButtonEl.classList.add('colab-df-quickchart-complete');\n",
              "    }\n",
              "    (() => {\n",
              "      let quickchartButtonEl =\n",
              "        document.querySelector('#df-705194a0-4ecf-47ef-956a-6c6f1211bcd3 button');\n",
              "      quickchartButtonEl.style.display =\n",
              "        google.colab.kernel.accessAllowed ? 'block' : 'none';\n",
              "    })();\n",
              "  </script>\n",
              "</div>\n",
              "    </div>\n",
              "  </div>\n"
            ]
          },
          "metadata": {},
          "execution_count": 57
        }
      ]
    },
    {
      "cell_type": "code",
      "source": [
        "mode_Established = dataset ['Established'] . mode ()\n",
        "print(mode_Established)"
      ],
      "metadata": {
        "colab": {
          "base_uri": "https://localhost:8080/"
        },
        "id": "yEjEjSWqmjUS",
        "outputId": "d2e9fff6-7300-46a0-f24b-3bd8ca83711f"
      },
      "execution_count": null,
      "outputs": [
        {
          "output_type": "stream",
          "name": "stdout",
          "text": [
            "0      -1\n",
            "1    1999\n",
            "Name: Established, dtype: int64\n"
          ]
        }
      ]
    },
    {
      "cell_type": "code",
      "source": [
        "print(dataset.dtypes)\n",
        "print(dataset['Established'].dtype)"
      ],
      "metadata": {
        "colab": {
          "base_uri": "https://localhost:8080/"
        },
        "id": "O2F0f-4-o5xu",
        "outputId": "2dd459ab-0191-47ea-ce88-3cd119b8ae4c"
      },
      "execution_count": null,
      "outputs": [
        {
          "output_type": "stream",
          "name": "stdout",
          "text": [
            "Index            int64\n",
            "Age            float64\n",
            "Salary          object\n",
            "Rating         float64\n",
            "Location        object\n",
            "Established      int64\n",
            "Easy Apply        bool\n",
            "dtype: object\n",
            "int64\n"
          ]
        }
      ]
    },
    {
      "cell_type": "code",
      "source": [
        "dataset['Established'] = dataset ['Established'].replace({ -1:1999})\n",
        "\n"
      ],
      "metadata": {
        "id": "QvL53MeIoAKk"
      },
      "execution_count": null,
      "outputs": []
    },
    {
      "cell_type": "code",
      "source": [
        "print(dataset)"
      ],
      "metadata": {
        "colab": {
          "base_uri": "https://localhost:8080/"
        },
        "id": "4StR7hqLpeYn",
        "outputId": "83fb0b94-4d47-48bc-d711-3dbec8d08475"
      },
      "execution_count": null,
      "outputs": [
        {
          "output_type": "stream",
          "name": "stdout",
          "text": [
            "    Index   Age      Salary  Rating        Location  Established  Easy Apply\n",
            "0       0  44.0   $44k-$99k     5.4       India,In,         1999        True\n",
            "1       1  66.0   $55k-$66k     3.5    New York,Ny,         2002        True\n",
            "2       2  39.0   $77k-$89k    -1.0    New York,Ny,         1999       False\n",
            "3       3  64.0   $44k-$99k     4.4       India, In         1988       False\n",
            "4       4  25.0   $44k-$99k     6.4  Australia, Aus         2002       False\n",
            "5       5  44.0   $77k-$89k     1.4       India,In,         1999        True\n",
            "6       6  21.0   $44k-$99k     0.0    New York,Ny,         1999       False\n",
            "7       7  44.0   $44k-$99k    -1.0  Australia, Aus         1999       False\n",
            "8       8  35.0   $44k-$99k     5.4    New York,Ny,         1999       False\n",
            "9       9  22.0   $44k-$99k     7.7       India,In,         1999        True\n",
            "10     10  55.0   $10k-$49k     5.4       India,In,         2008        True\n",
            "11     11  44.0   $10k-$49k     6.7       India,In,         2009       False\n",
            "12     12  39.0   $44k-$99k     0.0       India,In,         1999       False\n",
            "13     13  25.0   $44k-$99k    -1.0  Australia, Aus         2019        True\n",
            "14     14  66.0   $44k-$99k     4.0  Australia, Aus         2020        True\n",
            "15     15  44.0  $88k-$101k     3.0  Australia, Aus         1999       False\n",
            "16     16  19.0   $19k-$40k     4.5       India,In,         1984       False\n",
            "17     17  39.0   $44k-$99k     5.3    New York,Ny,         1943        True\n",
            "18     18  35.0   $44k-$99k     6.7    New York,Ny,         1954        True\n",
            "19     19  32.0   $44k-$99k     3.3    New York,Ny,         1955        True\n",
            "20     20  39.0   $44k-$99k     5.7    New York,Ny,         1944        True\n",
            "21     21  35.0   $44k-$99k     5.0    New York,Ny,         1946       False\n",
            "22     22  19.0   $55k-$66k     7.8    New York,Ny,         1988        True\n",
            "23     23  39.0   $44k-$99k     2.4    New York,Ny,         1999        True\n",
            "24     24  13.0   $44k-$99k    -1.0    New York,Ny,         1987       False\n",
            "25     25  55.0   $44k-$99k     0.0  Australia, Aus         1980        True\n",
            "26     26  39.0   $55k-$66k     3.5       India,In,         1934        True\n",
            "27     27  52.0   $44k-$99k     5.4       India,In,         1935       False\n",
            "28     28  39.0   $39k-$88k     3.4  Australia, Aus         1932       False\n"
          ]
        }
      ]
    },
    {
      "cell_type": "code",
      "source": [
        "dataset['Location'] = dataset['Location'].str.replace('India, In..', 'India, In.')\n",
        "\n",
        "dataset['Location'] = dataset['Location'].str.replace('Australia, Aus..', 'Australia, Aus.')\n",
        "\n",
        "dataset['Location'] = dataset['Location'].str.replace('New York, Ny', 'New York, Ny. ')\n",
        "print (dataset)"
      ],
      "metadata": {
        "colab": {
          "base_uri": "https://localhost:8080/"
        },
        "id": "j-cLkA1ytJr9",
        "outputId": "f7b38091-0456-4773-de6a-eab87fbbdfd5"
      },
      "execution_count": null,
      "outputs": [
        {
          "output_type": "stream",
          "name": "stdout",
          "text": [
            "    Index   Age      Salary  Rating         Location  Established  Easy Apply\n",
            "0       0  44.0   $44k-$99k     5.4       India, In.         1999        True\n",
            "1       1  66.0   $55k-$66k     3.5   New York, Ny.          2002        True\n",
            "2       2  39.0   $77k-$89k    -1.0   New York, Ny.          1999       False\n",
            "3       3  64.0   $44k-$99k     4.4       India, In.         1988       False\n",
            "4       4  25.0   $44k-$99k     6.4  Australia, Aus.         2002       False\n",
            "5       5  44.0   $77k-$89k     1.4       India, In.         1999        True\n",
            "6       6  21.0   $44k-$99k     0.0   New York, Ny.          1999       False\n",
            "7       7  44.0   $44k-$99k    -1.0  Australia, Aus.         1999       False\n",
            "8       8  35.0   $44k-$99k     5.4   New York, Ny.          1999       False\n",
            "9       9  22.0   $44k-$99k     7.7       India, In.         1999        True\n",
            "10     10  55.0   $10k-$49k     5.4       India, In.         2008        True\n",
            "11     11  44.0   $10k-$49k     6.7       India, In.         2009       False\n",
            "12     12  39.0   $44k-$99k     0.0       India, In.         1999       False\n",
            "13     13  25.0   $44k-$99k    -1.0  Australia, Aus.         2019        True\n",
            "14     14  66.0   $44k-$99k     4.0  Australia, Aus.         2020        True\n",
            "15     15  44.0  $88k-$101k     3.0  Australia, Aus.         1999       False\n",
            "16     16  19.0   $19k-$40k     4.5       India, In.         1984       False\n",
            "17     17  39.0   $44k-$99k     5.3   New York, Ny.          1943        True\n",
            "18     18  35.0   $44k-$99k     6.7   New York, Ny.          1954        True\n",
            "19     19  32.0   $44k-$99k     3.3   New York, Ny.          1955        True\n",
            "20     20  39.0   $44k-$99k     5.7   New York, Ny.          1944        True\n",
            "21     21  35.0   $44k-$99k     5.0   New York, Ny.          1946       False\n",
            "22     22  19.0   $55k-$66k     7.8   New York, Ny.          1988        True\n",
            "23     23  39.0   $44k-$99k     2.4   New York, Ny.          1999        True\n",
            "24     24  13.0   $44k-$99k    -1.0   New York, Ny.          1987       False\n",
            "25     25  55.0   $44k-$99k     0.0  Australia, Aus.         1980        True\n",
            "26     26  39.0   $55k-$66k     3.5       India, In.         1934        True\n",
            "27     27  52.0   $44k-$99k     5.4       India, In.         1935       False\n",
            "28     28  39.0   $39k-$88k     3.4  Australia, Aus.         1932       False\n"
          ]
        },
        {
          "output_type": "stream",
          "name": "stderr",
          "text": [
            "<ipython-input-100-96ab8c05c85c>:1: FutureWarning: The default value of regex will change from True to False in a future version.\n",
            "  dataset['Location'] = dataset['Location'].str.replace('India, In..', 'India, In.')\n",
            "<ipython-input-100-96ab8c05c85c>:3: FutureWarning: The default value of regex will change from True to False in a future version.\n",
            "  dataset['Location'] = dataset['Location'].str.replace('Australia, Aus..', 'Australia, Aus.')\n"
          ]
        }
      ]
    },
    {
      "cell_type": "code",
      "source": [
        "print(dataset)"
      ],
      "metadata": {
        "colab": {
          "base_uri": "https://localhost:8080/"
        },
        "id": "UJSY0x54vWLA",
        "outputId": "a3344495-1ab0-4631-f852-f48e9eaac108"
      },
      "execution_count": null,
      "outputs": [
        {
          "output_type": "stream",
          "name": "stdout",
          "text": [
            "    Index   Age      Salary  Rating         Location  Established  Easy Apply\n",
            "0       0  44.0   $44k-$99k     5.4       India, In.         1999        True\n",
            "1       1  66.0   $55k-$66k     3.5   New York, Ny.          2002        True\n",
            "2       2  39.0   $77k-$89k    -1.0   New York, Ny.          1999       False\n",
            "3       3  64.0   $44k-$99k     4.4       India, In.         1988       False\n",
            "4       4  25.0   $44k-$99k     6.4  Australia, Aus.         2002       False\n",
            "5       5  44.0   $77k-$89k     1.4       India, In.         1999        True\n",
            "6       6  21.0   $44k-$99k     0.0   New York, Ny.          1999       False\n",
            "7       7  44.0   $44k-$99k    -1.0  Australia, Aus.         1999       False\n",
            "8       8  35.0   $44k-$99k     5.4   New York, Ny.          1999       False\n",
            "9       9  22.0   $44k-$99k     7.7       India, In.         1999        True\n",
            "10     10  55.0   $10k-$49k     5.4       India, In.         2008        True\n",
            "11     11  44.0   $10k-$49k     6.7       India, In.         2009       False\n",
            "12     12  39.0   $44k-$99k     0.0       India, In.         1999       False\n",
            "13     13  25.0   $44k-$99k    -1.0  Australia, Aus.         2019        True\n",
            "14     14  66.0   $44k-$99k     4.0  Australia, Aus.         2020        True\n",
            "15     15  44.0  $88k-$101k     3.0  Australia, Aus.         1999       False\n",
            "16     16  19.0   $19k-$40k     4.5       India, In.         1984       False\n",
            "17     17  39.0   $44k-$99k     5.3   New York, Ny.          1943        True\n",
            "18     18  35.0   $44k-$99k     6.7   New York, Ny.          1954        True\n",
            "19     19  32.0   $44k-$99k     3.3   New York, Ny.          1955        True\n",
            "20     20  39.0   $44k-$99k     5.7   New York, Ny.          1944        True\n",
            "21     21  35.0   $44k-$99k     5.0   New York, Ny.          1946       False\n",
            "22     22  19.0   $55k-$66k     7.8   New York, Ny.          1988        True\n",
            "23     23  39.0   $44k-$99k     2.4   New York, Ny.          1999        True\n",
            "24     24  13.0   $44k-$99k    -1.0   New York, Ny.          1987       False\n",
            "25     25  55.0   $44k-$99k     0.0  Australia, Aus.         1980        True\n",
            "26     26  39.0   $55k-$66k     3.5       India, In.         1934        True\n",
            "27     27  52.0   $44k-$99k     5.4       India, In.         1935       False\n",
            "28     28  39.0   $39k-$88k     3.4  Australia, Aus.         1932       False\n"
          ]
        }
      ]
    },
    {
      "cell_type": "code",
      "source": [],
      "metadata": {
        "id": "yHCiKiGXy7o1"
      },
      "execution_count": null,
      "outputs": []
    }
  ]
}